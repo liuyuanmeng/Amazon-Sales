{
 "cells": [
  {
   "cell_type": "markdown",
   "id": "76a08689",
   "metadata": {
    "slideshow": {
     "slide_type": "slide"
    }
   },
   "source": [
    "#  Amazon Sales - Clean, Exploratory Data Analysis\n",
    "## This dataset consists more than 1000 of real products with their identification number listed in the Amazon marketplace\n",
    "**region of India.\n",
    "\n"
   ]
  },
  {
   "cell_type": "code",
   "execution_count": 101,
   "id": "cc3af2ef",
   "metadata": {
    "slideshow": {
     "slide_type": "subslide"
    }
   },
   "outputs": [
    {
     "data": {
      "text/html": [
       "<div>\n",
       "<style scoped>\n",
       "    .dataframe tbody tr th:only-of-type {\n",
       "        vertical-align: middle;\n",
       "    }\n",
       "\n",
       "    .dataframe tbody tr th {\n",
       "        vertical-align: top;\n",
       "    }\n",
       "\n",
       "    .dataframe thead th {\n",
       "        text-align: right;\n",
       "    }\n",
       "</style>\n",
       "<table border=\"1\" class=\"dataframe\">\n",
       "  <thead>\n",
       "    <tr style=\"text-align: right;\">\n",
       "      <th></th>\n",
       "      <th>product_id</th>\n",
       "      <th>product_name</th>\n",
       "      <th>category</th>\n",
       "      <th>discounted_price</th>\n",
       "      <th>actual_price</th>\n",
       "      <th>discount_percentage</th>\n",
       "      <th>rating</th>\n",
       "      <th>rating_count</th>\n",
       "      <th>about_product</th>\n",
       "      <th>user_id</th>\n",
       "      <th>user_name</th>\n",
       "      <th>review_id</th>\n",
       "      <th>review_title</th>\n",
       "      <th>review_content</th>\n",
       "      <th>img_link</th>\n",
       "      <th>product_link</th>\n",
       "    </tr>\n",
       "  </thead>\n",
       "  <tbody>\n",
       "    <tr>\n",
       "      <th>0</th>\n",
       "      <td>B07JW9H4J1</td>\n",
       "      <td>Wayona Nylon Braided USB to Lightning Fast Cha...</td>\n",
       "      <td>Computers&amp;Accessories|Accessories&amp;Peripherals|...</td>\n",
       "      <td>₹399</td>\n",
       "      <td>₹1,099</td>\n",
       "      <td>64%</td>\n",
       "      <td>4.2</td>\n",
       "      <td>24,269</td>\n",
       "      <td>High Compatibility : Compatible With iPhone 12...</td>\n",
       "      <td>AG3D6O4STAQKAY2UVGEUV46KN35Q,AHMY5CWJMMK5BJRBB...</td>\n",
       "      <td>Manav,Adarsh gupta,Sundeep,S.Sayeed Ahmed,jasp...</td>\n",
       "      <td>R3HXWT0LRP0NMF,R2AJM3LFTLZHFO,R6AQJGUP6P86,R1K...</td>\n",
       "      <td>Satisfied,Charging is really fast,Value for mo...</td>\n",
       "      <td>Looks durable Charging is fine tooNo complains...</td>\n",
       "      <td>https://m.media-amazon.com/images/W/WEBP_40237...</td>\n",
       "      <td>https://www.amazon.in/Wayona-Braided-WN3LG1-Sy...</td>\n",
       "    </tr>\n",
       "    <tr>\n",
       "      <th>1</th>\n",
       "      <td>B098NS6PVG</td>\n",
       "      <td>Ambrane Unbreakable 60W / 3A Fast Charging 1.5...</td>\n",
       "      <td>Computers&amp;Accessories|Accessories&amp;Peripherals|...</td>\n",
       "      <td>₹199</td>\n",
       "      <td>₹349</td>\n",
       "      <td>43%</td>\n",
       "      <td>4.0</td>\n",
       "      <td>43,994</td>\n",
       "      <td>Compatible with all Type C enabled devices, be...</td>\n",
       "      <td>AECPFYFQVRUWC3KGNLJIOREFP5LQ,AGYYVPDD7YG7FYNBX...</td>\n",
       "      <td>ArdKn,Nirbhay kumar,Sagar Viswanathan,Asp,Plac...</td>\n",
       "      <td>RGIQEG07R9HS2,R1SMWZQ86XIN8U,R2J3Y1WL29GWDE,RY...</td>\n",
       "      <td>A Good Braided Cable for Your Type C Device,Go...</td>\n",
       "      <td>I ordered this cable to connect my phone to An...</td>\n",
       "      <td>https://m.media-amazon.com/images/W/WEBP_40237...</td>\n",
       "      <td>https://www.amazon.in/Ambrane-Unbreakable-Char...</td>\n",
       "    </tr>\n",
       "    <tr>\n",
       "      <th>2</th>\n",
       "      <td>B096MSW6CT</td>\n",
       "      <td>Sounce Fast Phone Charging Cable &amp; Data Sync U...</td>\n",
       "      <td>Computers&amp;Accessories|Accessories&amp;Peripherals|...</td>\n",
       "      <td>₹199</td>\n",
       "      <td>₹1,899</td>\n",
       "      <td>90%</td>\n",
       "      <td>3.9</td>\n",
       "      <td>7,928</td>\n",
       "      <td>【 Fast Charger&amp; Data Sync】-With built-in safet...</td>\n",
       "      <td>AGU3BBQ2V2DDAMOAKGFAWDDQ6QHA,AESFLDV2PT363T2AQ...</td>\n",
       "      <td>Kunal,Himanshu,viswanath,sai niharka,saqib mal...</td>\n",
       "      <td>R3J3EQQ9TZI5ZJ,R3E7WBGK7ID0KV,RWU79XKQ6I1QF,R2...</td>\n",
       "      <td>Good speed for earlier versions,Good Product,W...</td>\n",
       "      <td>Not quite durable and sturdy,https://m.media-a...</td>\n",
       "      <td>https://m.media-amazon.com/images/W/WEBP_40237...</td>\n",
       "      <td>https://www.amazon.in/Sounce-iPhone-Charging-C...</td>\n",
       "    </tr>\n",
       "    <tr>\n",
       "      <th>3</th>\n",
       "      <td>B08HDJ86NZ</td>\n",
       "      <td>boAt Deuce USB 300 2 in 1 Type-C &amp; Micro USB S...</td>\n",
       "      <td>Computers&amp;Accessories|Accessories&amp;Peripherals|...</td>\n",
       "      <td>₹329</td>\n",
       "      <td>₹699</td>\n",
       "      <td>53%</td>\n",
       "      <td>4.2</td>\n",
       "      <td>94,363</td>\n",
       "      <td>The boAt Deuce USB 300 2 in 1 cable is compati...</td>\n",
       "      <td>AEWAZDZZJLQUYVOVGBEUKSLXHQ5A,AG5HTSFRRE6NL3M5S...</td>\n",
       "      <td>Omkar dhale,JD,HEMALATHA,Ajwadh a.,amar singh ...</td>\n",
       "      <td>R3EEUZKKK9J36I,R3HJVYCLYOY554,REDECAZ7AMPQC,R1...</td>\n",
       "      <td>Good product,Good one,Nice,Really nice product...</td>\n",
       "      <td>Good product,long wire,Charges good,Nice,I bou...</td>\n",
       "      <td>https://m.media-amazon.com/images/I/41V5FtEWPk...</td>\n",
       "      <td>https://www.amazon.in/Deuce-300-Resistant-Tang...</td>\n",
       "    </tr>\n",
       "    <tr>\n",
       "      <th>4</th>\n",
       "      <td>B08CF3B7N1</td>\n",
       "      <td>Portronics Konnect L 1.2M Fast Charging 3A 8 P...</td>\n",
       "      <td>Computers&amp;Accessories|Accessories&amp;Peripherals|...</td>\n",
       "      <td>₹154</td>\n",
       "      <td>₹399</td>\n",
       "      <td>61%</td>\n",
       "      <td>4.2</td>\n",
       "      <td>16,905</td>\n",
       "      <td>[CHARGE &amp; SYNC FUNCTION]- This cable comes wit...</td>\n",
       "      <td>AE3Q6KSUK5P75D5HFYHCRAOLODSA,AFUGIFH5ZAFXRDSZH...</td>\n",
       "      <td>rahuls6099,Swasat Borah,Ajay Wadke,Pranali,RVK...</td>\n",
       "      <td>R1BP4L2HH9TFUP,R16PVJEXKV6QZS,R2UPDB81N66T4P,R...</td>\n",
       "      <td>As good as original,Decent,Good one for second...</td>\n",
       "      <td>Bought this instead of original apple, does th...</td>\n",
       "      <td>https://m.media-amazon.com/images/W/WEBP_40237...</td>\n",
       "      <td>https://www.amazon.in/Portronics-Konnect-POR-1...</td>\n",
       "    </tr>\n",
       "  </tbody>\n",
       "</table>\n",
       "</div>"
      ],
      "text/plain": [
       "   product_id                                       product_name  \\\n",
       "0  B07JW9H4J1  Wayona Nylon Braided USB to Lightning Fast Cha...   \n",
       "1  B098NS6PVG  Ambrane Unbreakable 60W / 3A Fast Charging 1.5...   \n",
       "2  B096MSW6CT  Sounce Fast Phone Charging Cable & Data Sync U...   \n",
       "3  B08HDJ86NZ  boAt Deuce USB 300 2 in 1 Type-C & Micro USB S...   \n",
       "4  B08CF3B7N1  Portronics Konnect L 1.2M Fast Charging 3A 8 P...   \n",
       "\n",
       "                                            category discounted_price  \\\n",
       "0  Computers&Accessories|Accessories&Peripherals|...             ₹399   \n",
       "1  Computers&Accessories|Accessories&Peripherals|...             ₹199   \n",
       "2  Computers&Accessories|Accessories&Peripherals|...             ₹199   \n",
       "3  Computers&Accessories|Accessories&Peripherals|...             ₹329   \n",
       "4  Computers&Accessories|Accessories&Peripherals|...             ₹154   \n",
       "\n",
       "  actual_price discount_percentage rating rating_count  \\\n",
       "0       ₹1,099                 64%    4.2       24,269   \n",
       "1         ₹349                 43%    4.0       43,994   \n",
       "2       ₹1,899                 90%    3.9        7,928   \n",
       "3         ₹699                 53%    4.2       94,363   \n",
       "4         ₹399                 61%    4.2       16,905   \n",
       "\n",
       "                                       about_product  \\\n",
       "0  High Compatibility : Compatible With iPhone 12...   \n",
       "1  Compatible with all Type C enabled devices, be...   \n",
       "2  【 Fast Charger& Data Sync】-With built-in safet...   \n",
       "3  The boAt Deuce USB 300 2 in 1 cable is compati...   \n",
       "4  [CHARGE & SYNC FUNCTION]- This cable comes wit...   \n",
       "\n",
       "                                             user_id  \\\n",
       "0  AG3D6O4STAQKAY2UVGEUV46KN35Q,AHMY5CWJMMK5BJRBB...   \n",
       "1  AECPFYFQVRUWC3KGNLJIOREFP5LQ,AGYYVPDD7YG7FYNBX...   \n",
       "2  AGU3BBQ2V2DDAMOAKGFAWDDQ6QHA,AESFLDV2PT363T2AQ...   \n",
       "3  AEWAZDZZJLQUYVOVGBEUKSLXHQ5A,AG5HTSFRRE6NL3M5S...   \n",
       "4  AE3Q6KSUK5P75D5HFYHCRAOLODSA,AFUGIFH5ZAFXRDSZH...   \n",
       "\n",
       "                                           user_name  \\\n",
       "0  Manav,Adarsh gupta,Sundeep,S.Sayeed Ahmed,jasp...   \n",
       "1  ArdKn,Nirbhay kumar,Sagar Viswanathan,Asp,Plac...   \n",
       "2  Kunal,Himanshu,viswanath,sai niharka,saqib mal...   \n",
       "3  Omkar dhale,JD,HEMALATHA,Ajwadh a.,amar singh ...   \n",
       "4  rahuls6099,Swasat Borah,Ajay Wadke,Pranali,RVK...   \n",
       "\n",
       "                                           review_id  \\\n",
       "0  R3HXWT0LRP0NMF,R2AJM3LFTLZHFO,R6AQJGUP6P86,R1K...   \n",
       "1  RGIQEG07R9HS2,R1SMWZQ86XIN8U,R2J3Y1WL29GWDE,RY...   \n",
       "2  R3J3EQQ9TZI5ZJ,R3E7WBGK7ID0KV,RWU79XKQ6I1QF,R2...   \n",
       "3  R3EEUZKKK9J36I,R3HJVYCLYOY554,REDECAZ7AMPQC,R1...   \n",
       "4  R1BP4L2HH9TFUP,R16PVJEXKV6QZS,R2UPDB81N66T4P,R...   \n",
       "\n",
       "                                        review_title  \\\n",
       "0  Satisfied,Charging is really fast,Value for mo...   \n",
       "1  A Good Braided Cable for Your Type C Device,Go...   \n",
       "2  Good speed for earlier versions,Good Product,W...   \n",
       "3  Good product,Good one,Nice,Really nice product...   \n",
       "4  As good as original,Decent,Good one for second...   \n",
       "\n",
       "                                      review_content  \\\n",
       "0  Looks durable Charging is fine tooNo complains...   \n",
       "1  I ordered this cable to connect my phone to An...   \n",
       "2  Not quite durable and sturdy,https://m.media-a...   \n",
       "3  Good product,long wire,Charges good,Nice,I bou...   \n",
       "4  Bought this instead of original apple, does th...   \n",
       "\n",
       "                                            img_link  \\\n",
       "0  https://m.media-amazon.com/images/W/WEBP_40237...   \n",
       "1  https://m.media-amazon.com/images/W/WEBP_40237...   \n",
       "2  https://m.media-amazon.com/images/W/WEBP_40237...   \n",
       "3  https://m.media-amazon.com/images/I/41V5FtEWPk...   \n",
       "4  https://m.media-amazon.com/images/W/WEBP_40237...   \n",
       "\n",
       "                                        product_link  \n",
       "0  https://www.amazon.in/Wayona-Braided-WN3LG1-Sy...  \n",
       "1  https://www.amazon.in/Ambrane-Unbreakable-Char...  \n",
       "2  https://www.amazon.in/Sounce-iPhone-Charging-C...  \n",
       "3  https://www.amazon.in/Deuce-300-Resistant-Tang...  \n",
       "4  https://www.amazon.in/Portronics-Konnect-POR-1...  "
      ]
     },
     "execution_count": 101,
     "metadata": {},
     "output_type": "execute_result"
    }
   ],
   "source": [
    "import pandas as pd\n",
    "import matplotlib.pyplot as plt\n",
    "import numpy as np\n",
    "import seaborn as sns\n",
    "\n",
    "amazon = pd.read_csv('amazon.csv')\n",
    "amazon.head()"
   ]
  },
  {
   "cell_type": "markdown",
   "id": "56275e56",
   "metadata": {
    "slideshow": {
     "slide_type": "slide"
    }
   },
   "source": [
    "# DATA CLEANING & PREPARATION\n",
    "- Splitting Long Strings\n",
    "- Changing Data Types of Columns from object to Floats\n",
    "- Filling in Missing Information\n",
    "- Checking For Duplicate Rows\n",
    "- Creating Various New Columns\n"
   ]
  },
  {
   "cell_type": "code",
   "execution_count": 102,
   "id": "67db1644",
   "metadata": {
    "scrolled": true,
    "slideshow": {
     "slide_type": "skip"
    }
   },
   "outputs": [
    {
     "name": "stdout",
     "output_type": "stream",
     "text": [
      "0       Computers&Accessories\n",
      "1       Computers&Accessories\n",
      "2       Computers&Accessories\n",
      "3       Computers&Accessories\n",
      "4       Computers&Accessories\n",
      "                ...          \n",
      "1460             Home&Kitchen\n",
      "1461             Home&Kitchen\n",
      "1462             Home&Kitchen\n",
      "1463             Home&Kitchen\n",
      "1464             Home&Kitchen\n",
      "Name: 0, Length: 1465, dtype: object\n"
     ]
    }
   ],
   "source": [
    "# Splitting Long Strings\n",
    "\n",
    "\n",
    "category = pd.Series(amazon['category'])\n",
    "\n",
    "category = category.str.split(\"|\", expand=True)[0].str.split().str[:2]\n",
    "category = category.str.join(\" \")\n",
    "\n",
    "print(category)"
   ]
  },
  {
   "cell_type": "code",
   "execution_count": 103,
   "id": "4ca178e4",
   "metadata": {
    "slideshow": {
     "slide_type": "subslide"
    }
   },
   "outputs": [
    {
     "data": {
      "text/plain": [
       "0        399.0\n",
       "1        199.0\n",
       "2        199.0\n",
       "3        329.0\n",
       "4        154.0\n",
       "         ...  \n",
       "1460     379.0\n",
       "1461    2280.0\n",
       "1462    2219.0\n",
       "1463    1399.0\n",
       "1464    2863.0\n",
       "Name: discounted_price, Length: 1465, dtype: float64"
      ]
     },
     "execution_count": 103,
     "metadata": {},
     "output_type": "execute_result"
    }
   ],
   "source": [
    "#Changing the data type of discounted price and actual price\n",
    "\n",
    "amazon['discounted_price'] = amazon['discounted_price'].str.replace(\"₹\",'')\n",
    "amazon['discounted_price'] = amazon['discounted_price'].str.replace(\",\",'')\n",
    "amazon['discounted_price'] = amazon['discounted_price'].astype('float64')\n",
    "amazon['discounted_price'] "
   ]
  },
  {
   "cell_type": "code",
   "execution_count": 104,
   "id": "6bebad13",
   "metadata": {
    "slideshow": {
     "slide_type": "skip"
    }
   },
   "outputs": [
    {
     "data": {
      "text/plain": [
       "0       1099.0\n",
       "1        349.0\n",
       "2       1899.0\n",
       "3        699.0\n",
       "4        399.0\n",
       "         ...  \n",
       "1460     919.0\n",
       "1461    3045.0\n",
       "1462    3080.0\n",
       "1463    1890.0\n",
       "1464    3690.0\n",
       "Name: actual_price, Length: 1465, dtype: float64"
      ]
     },
     "execution_count": 104,
     "metadata": {},
     "output_type": "execute_result"
    }
   ],
   "source": [
    "amazon['actual_price'] = amazon['actual_price'].str.replace(\"₹\",'')\n",
    "amazon['actual_price'] = amazon['actual_price'].str.replace(\",\",'')\n",
    "amazon['actual_price'] = amazon['actual_price'].astype('float64')\n",
    "amazon['actual_price']"
   ]
  },
  {
   "cell_type": "code",
   "execution_count": 105,
   "id": "c1b64d75",
   "metadata": {
    "slideshow": {
     "slide_type": "subslide"
    }
   },
   "outputs": [
    {
     "data": {
      "text/plain": [
       "4.1    244\n",
       "4.3    230\n",
       "4.2    228\n",
       "4.0    129\n",
       "3.9    123\n",
       "4.4    123\n",
       "3.8     86\n",
       "4.5     75\n",
       "4       52\n",
       "3.7     42\n",
       "3.6     35\n",
       "3.5     26\n",
       "4.6     17\n",
       "3.3     16\n",
       "3.4     10\n",
       "4.7      6\n",
       "3.1      4\n",
       "5.0      3\n",
       "3.0      3\n",
       "4.8      3\n",
       "3.2      2\n",
       "2.8      2\n",
       "2.3      1\n",
       "|        1\n",
       "2        1\n",
       "3        1\n",
       "2.6      1\n",
       "2.9      1\n",
       "Name: rating, dtype: int64"
      ]
     },
     "execution_count": 105,
     "metadata": {},
     "output_type": "execute_result"
    }
   ],
   "source": [
    "#Finding unusual string in the rating column\n",
    "\n",
    "amazon['rating'].value_counts()"
   ]
  },
  {
   "cell_type": "code",
   "execution_count": 106,
   "id": "7e8b8028",
   "metadata": {
    "slideshow": {
     "slide_type": "subslide"
    }
   },
   "outputs": [
    {
     "data": {
      "text/html": [
       "<div>\n",
       "<style scoped>\n",
       "    .dataframe tbody tr th:only-of-type {\n",
       "        vertical-align: middle;\n",
       "    }\n",
       "\n",
       "    .dataframe tbody tr th {\n",
       "        vertical-align: top;\n",
       "    }\n",
       "\n",
       "    .dataframe thead th {\n",
       "        text-align: right;\n",
       "    }\n",
       "</style>\n",
       "<table border=\"1\" class=\"dataframe\">\n",
       "  <thead>\n",
       "    <tr style=\"text-align: right;\">\n",
       "      <th></th>\n",
       "      <th>product_id</th>\n",
       "      <th>product_name</th>\n",
       "      <th>category</th>\n",
       "      <th>discounted_price</th>\n",
       "      <th>actual_price</th>\n",
       "      <th>discount_percentage</th>\n",
       "      <th>rating</th>\n",
       "      <th>rating_count</th>\n",
       "      <th>about_product</th>\n",
       "      <th>user_id</th>\n",
       "      <th>user_name</th>\n",
       "      <th>review_id</th>\n",
       "      <th>review_title</th>\n",
       "      <th>review_content</th>\n",
       "      <th>img_link</th>\n",
       "      <th>product_link</th>\n",
       "    </tr>\n",
       "  </thead>\n",
       "  <tbody>\n",
       "    <tr>\n",
       "      <th>1279</th>\n",
       "      <td>B08L12N5H1</td>\n",
       "      <td>Eureka Forbes car Vac 100 Watts Powerful Sucti...</td>\n",
       "      <td>Home&amp;Kitchen|Kitchen&amp;HomeAppliances|Vacuum,Cle...</td>\n",
       "      <td>2099.0</td>\n",
       "      <td>2499.0</td>\n",
       "      <td>16%</td>\n",
       "      <td>|</td>\n",
       "      <td>992</td>\n",
       "      <td>No Installation is provided for this product|1...</td>\n",
       "      <td>AGTDSNT2FKVYEPDPXAA673AIS44A,AER2XFSWNN4LAUCJ5...</td>\n",
       "      <td>Divya,Dr Nefario,Deekshith,Preeti,Prasanth R,P...</td>\n",
       "      <td>R2KKTKM4M9RDVJ,R1O692MZOBTE79,R2WRSEWL56SOS4,R...</td>\n",
       "      <td>Decent product,doesn't pick up sand,Ok ok,Must...</td>\n",
       "      <td>Does the job well,doesn't work on sand. though...</td>\n",
       "      <td>https://m.media-amazon.com/images/W/WEBP_40237...</td>\n",
       "      <td>https://www.amazon.in/Eureka-Forbes-Vacuum-Cle...</td>\n",
       "    </tr>\n",
       "  </tbody>\n",
       "</table>\n",
       "</div>"
      ],
      "text/plain": [
       "      product_id                                       product_name  \\\n",
       "1279  B08L12N5H1  Eureka Forbes car Vac 100 Watts Powerful Sucti...   \n",
       "\n",
       "                                               category  discounted_price  \\\n",
       "1279  Home&Kitchen|Kitchen&HomeAppliances|Vacuum,Cle...            2099.0   \n",
       "\n",
       "      actual_price discount_percentage rating rating_count  \\\n",
       "1279        2499.0                 16%      |          992   \n",
       "\n",
       "                                          about_product  \\\n",
       "1279  No Installation is provided for this product|1...   \n",
       "\n",
       "                                                user_id  \\\n",
       "1279  AGTDSNT2FKVYEPDPXAA673AIS44A,AER2XFSWNN4LAUCJ5...   \n",
       "\n",
       "                                              user_name  \\\n",
       "1279  Divya,Dr Nefario,Deekshith,Preeti,Prasanth R,P...   \n",
       "\n",
       "                                              review_id  \\\n",
       "1279  R2KKTKM4M9RDVJ,R1O692MZOBTE79,R2WRSEWL56SOS4,R...   \n",
       "\n",
       "                                           review_title  \\\n",
       "1279  Decent product,doesn't pick up sand,Ok ok,Must...   \n",
       "\n",
       "                                         review_content  \\\n",
       "1279  Does the job well,doesn't work on sand. though...   \n",
       "\n",
       "                                               img_link  \\\n",
       "1279  https://m.media-amazon.com/images/W/WEBP_40237...   \n",
       "\n",
       "                                           product_link  \n",
       "1279  https://www.amazon.in/Eureka-Forbes-Vacuum-Cle...  "
      ]
     },
     "execution_count": 106,
     "metadata": {},
     "output_type": "execute_result"
    }
   ],
   "source": [
    "#Inspecting the strange row\n",
    "\n",
    "amazon.query('rating == \"|\"')"
   ]
  },
  {
   "cell_type": "code",
   "execution_count": 107,
   "id": "3fb690b9",
   "metadata": {
    "slideshow": {
     "slide_type": "subslide"
    }
   },
   "outputs": [
    {
     "data": {
      "text/plain": [
       "0       24269.0\n",
       "1       43994.0\n",
       "2        7928.0\n",
       "3       94363.0\n",
       "4       16905.0\n",
       "         ...   \n",
       "1460     1090.0\n",
       "1461     4118.0\n",
       "1462      468.0\n",
       "1463     8031.0\n",
       "1464     6987.0\n",
       "Name: rating_count, Length: 1465, dtype: float64"
      ]
     },
     "execution_count": 107,
     "metadata": {},
     "output_type": "execute_result"
    }
   ],
   "source": [
    "#Changing Rating Column Data Type\n",
    "\n",
    "amazon['rating_count'] = amazon['rating_count'].replace(',', '', regex=True).astype('float64')\n",
    "amazon['rating_count'] "
   ]
  },
  {
   "cell_type": "code",
   "execution_count": 108,
   "id": "e14279fd",
   "metadata": {
    "slideshow": {
     "slide_type": "subslide"
    }
   },
   "outputs": [
    {
     "data": {
      "text/plain": [
       "0       4.2\n",
       "1       4.0\n",
       "2       3.9\n",
       "3       4.2\n",
       "4       4.2\n",
       "       ... \n",
       "1460    4.0\n",
       "1461    4.1\n",
       "1462    3.6\n",
       "1463    4.0\n",
       "1464    4.3\n",
       "Name: rating, Length: 1465, dtype: float64"
      ]
     },
     "execution_count": 108,
     "metadata": {},
     "output_type": "execute_result"
    }
   ],
   "source": [
    "amazon['rating'] = amazon['rating'].replace('|', '4.0').astype('float64')\n",
    "amazon['rating']"
   ]
  },
  {
   "cell_type": "code",
   "execution_count": 109,
   "id": "6670486d",
   "metadata": {},
   "outputs": [
    {
     "data": {
      "text/plain": [
       "0       0.64\n",
       "1       0.43\n",
       "2       0.90\n",
       "3       0.53\n",
       "4       0.61\n",
       "        ... \n",
       "1460    0.59\n",
       "1461    0.25\n",
       "1462    0.28\n",
       "1463    0.26\n",
       "1464    0.22\n",
       "Name: discount_percentage, Length: 1465, dtype: float64"
      ]
     },
     "execution_count": 109,
     "metadata": {},
     "output_type": "execute_result"
    }
   ],
   "source": [
    "amazon['discount_percentage'] = amazon['discount_percentage'].str.replace('%','').astype('float64')\n",
    "amazon['discount_percentage'] = amazon['discount_percentage'] / 100\n",
    "amazon['discount_percentage']"
   ]
  },
  {
   "cell_type": "code",
   "execution_count": 110,
   "id": "fd39017d",
   "metadata": {
    "slideshow": {
     "slide_type": "subslide"
    }
   },
   "outputs": [
    {
     "data": {
      "text/plain": [
       "product_id             0\n",
       "product_name           0\n",
       "category               0\n",
       "discounted_price       0\n",
       "actual_price           0\n",
       "discount_percentage    0\n",
       "rating                 0\n",
       "rating_count           2\n",
       "about_product          0\n",
       "user_id                0\n",
       "user_name              0\n",
       "review_id              0\n",
       "review_title           0\n",
       "review_content         0\n",
       "img_link               0\n",
       "product_link           0\n",
       "dtype: int64"
      ]
     },
     "execution_count": 110,
     "metadata": {},
     "output_type": "execute_result"
    }
   ],
   "source": [
    "#Checking Missing Values\n",
    "\n",
    "amazon.isna().sum()"
   ]
  },
  {
   "cell_type": "code",
   "execution_count": 111,
   "id": "002e1480",
   "metadata": {
    "slideshow": {
     "slide_type": "subslide"
    }
   },
   "outputs": [],
   "source": [
    "mean_value = amazon['rating_count'].mean()\n",
    "amazon['rating_count'] = amazon['rating_count'].fillna(mean_value)\n"
   ]
  },
  {
   "cell_type": "code",
   "execution_count": 112,
   "id": "c7d9bbea",
   "metadata": {
    "slideshow": {
     "slide_type": "subslide"
    }
   },
   "outputs": [
    {
     "data": {
      "text/html": [
       "<div>\n",
       "<style scoped>\n",
       "    .dataframe tbody tr th:only-of-type {\n",
       "        vertical-align: middle;\n",
       "    }\n",
       "\n",
       "    .dataframe tbody tr th {\n",
       "        vertical-align: top;\n",
       "    }\n",
       "\n",
       "    .dataframe thead th {\n",
       "        text-align: right;\n",
       "    }\n",
       "</style>\n",
       "<table border=\"1\" class=\"dataframe\">\n",
       "  <thead>\n",
       "    <tr style=\"text-align: right;\">\n",
       "      <th></th>\n",
       "      <th>product_id</th>\n",
       "      <th>product_name</th>\n",
       "      <th>category</th>\n",
       "      <th>discounted_price</th>\n",
       "      <th>actual_price</th>\n",
       "      <th>discount_percentage</th>\n",
       "      <th>rating</th>\n",
       "      <th>rating_count</th>\n",
       "      <th>about_product</th>\n",
       "      <th>user_id</th>\n",
       "      <th>user_name</th>\n",
       "      <th>review_id</th>\n",
       "      <th>review_title</th>\n",
       "      <th>review_content</th>\n",
       "      <th>img_link</th>\n",
       "      <th>product_link</th>\n",
       "    </tr>\n",
       "  </thead>\n",
       "  <tbody>\n",
       "  </tbody>\n",
       "</table>\n",
       "</div>"
      ],
      "text/plain": [
       "Empty DataFrame\n",
       "Columns: [product_id, product_name, category, discounted_price, actual_price, discount_percentage, rating, rating_count, about_product, user_id, user_name, review_id, review_title, review_content, img_link, product_link]\n",
       "Index: []"
      ]
     },
     "execution_count": 112,
     "metadata": {},
     "output_type": "execute_result"
    }
   ],
   "source": [
    "#Checking for Duplicates\n",
    "\n",
    "duplicates = amazon.duplicated()\n",
    "amazon[duplicates]"
   ]
  },
  {
   "cell_type": "markdown",
   "id": "c90fb211",
   "metadata": {
    "slideshow": {
     "slide_type": "slide"
    }
   },
   "source": [
    "# Observation 1: Product Category"
   ]
  },
  {
   "cell_type": "code",
   "execution_count": 113,
   "id": "4fde339b",
   "metadata": {
    "slideshow": {
     "slide_type": "slide"
    }
   },
   "outputs": [
    {
     "data": {
      "image/png": "[encoded data removed]",
      "text/plain": [
       "<Figure size 640x480 with 1 Axes>"
      ]
     },
     "metadata": {},
     "output_type": "display_data"
    }
   ],
   "source": [
    "\n",
    "category_counts = category.value_counts()\n",
    "\n",
    "# Define a modern color palette\n",
    "colors = ['#FF5C93', '#FFC66C', '#6CD4FF', '#A593E0', '#8AFF9C']\n",
    "\n",
    "# Plot the bar chart with the custom color palette\n",
    "ax = category_counts.plot.bar(color=colors)\n",
    "\n",
    "# Set labels and title\n",
    "plt.xlabel('Category')\n",
    "plt.ylabel('Count')\n",
    "plt.title('Category Counts')\n",
    "\n",
    "# Add count labels on top of each bar\n",
    "for i, v in enumerate(category_counts):\n",
    "    ax.text(i, v, str(v), ha='center', va='bottom')\n",
    "\n",
    "# Display the chart\n",
    "plt.show()\n",
    "\n"
   ]
  },
  {
   "cell_type": "markdown",
   "id": "3406f8b7",
   "metadata": {
    "slideshow": {
     "slide_type": "skip"
    }
   },
   "source": [
    "# Creating a new DataFrame with Selected Column\n"
   ]
  },
  {
   "cell_type": "code",
   "execution_count": 114,
   "id": "d2cef13b",
   "metadata": {
    "slideshow": {
     "slide_type": "skip"
    }
   },
   "outputs": [
    {
     "data": {
      "text/html": [
       "<div>\n",
       "<style scoped>\n",
       "    .dataframe tbody tr th:only-of-type {\n",
       "        vertical-align: middle;\n",
       "    }\n",
       "\n",
       "    .dataframe tbody tr th {\n",
       "        vertical-align: top;\n",
       "    }\n",
       "\n",
       "    .dataframe thead th {\n",
       "        text-align: right;\n",
       "    }\n",
       "</style>\n",
       "<table border=\"1\" class=\"dataframe\">\n",
       "  <thead>\n",
       "    <tr style=\"text-align: right;\">\n",
       "      <th></th>\n",
       "      <th>product_id</th>\n",
       "      <th>product_name</th>\n",
       "      <th>category</th>\n",
       "      <th>discounted_price</th>\n",
       "      <th>actual_price</th>\n",
       "      <th>discount_percentage</th>\n",
       "      <th>rating</th>\n",
       "      <th>rating_count</th>\n",
       "    </tr>\n",
       "  </thead>\n",
       "  <tbody>\n",
       "    <tr>\n",
       "      <th>0</th>\n",
       "      <td>B07JW9H4J1</td>\n",
       "      <td>Wayona Nylon Braided USB to Lightning Fast Cha...</td>\n",
       "      <td>Computers&amp;Accessories|Accessories&amp;Peripherals|...</td>\n",
       "      <td>399.0</td>\n",
       "      <td>1099.0</td>\n",
       "      <td>0.64</td>\n",
       "      <td>4.2</td>\n",
       "      <td>24269.0</td>\n",
       "    </tr>\n",
       "    <tr>\n",
       "      <th>1</th>\n",
       "      <td>B098NS6PVG</td>\n",
       "      <td>Ambrane Unbreakable 60W / 3A Fast Charging 1.5...</td>\n",
       "      <td>Computers&amp;Accessories|Accessories&amp;Peripherals|...</td>\n",
       "      <td>199.0</td>\n",
       "      <td>349.0</td>\n",
       "      <td>0.43</td>\n",
       "      <td>4.0</td>\n",
       "      <td>43994.0</td>\n",
       "    </tr>\n",
       "    <tr>\n",
       "      <th>2</th>\n",
       "      <td>B096MSW6CT</td>\n",
       "      <td>Sounce Fast Phone Charging Cable &amp; Data Sync U...</td>\n",
       "      <td>Computers&amp;Accessories|Accessories&amp;Peripherals|...</td>\n",
       "      <td>199.0</td>\n",
       "      <td>1899.0</td>\n",
       "      <td>0.90</td>\n",
       "      <td>3.9</td>\n",
       "      <td>7928.0</td>\n",
       "    </tr>\n",
       "    <tr>\n",
       "      <th>3</th>\n",
       "      <td>B08HDJ86NZ</td>\n",
       "      <td>boAt Deuce USB 300 2 in 1 Type-C &amp; Micro USB S...</td>\n",
       "      <td>Computers&amp;Accessories|Accessories&amp;Peripherals|...</td>\n",
       "      <td>329.0</td>\n",
       "      <td>699.0</td>\n",
       "      <td>0.53</td>\n",
       "      <td>4.2</td>\n",
       "      <td>94363.0</td>\n",
       "    </tr>\n",
       "    <tr>\n",
       "      <th>4</th>\n",
       "      <td>B08CF3B7N1</td>\n",
       "      <td>Portronics Konnect L 1.2M Fast Charging 3A 8 P...</td>\n",
       "      <td>Computers&amp;Accessories|Accessories&amp;Peripherals|...</td>\n",
       "      <td>154.0</td>\n",
       "      <td>399.0</td>\n",
       "      <td>0.61</td>\n",
       "      <td>4.2</td>\n",
       "      <td>16905.0</td>\n",
       "    </tr>\n",
       "    <tr>\n",
       "      <th>...</th>\n",
       "      <td>...</td>\n",
       "      <td>...</td>\n",
       "      <td>...</td>\n",
       "      <td>...</td>\n",
       "      <td>...</td>\n",
       "      <td>...</td>\n",
       "      <td>...</td>\n",
       "      <td>...</td>\n",
       "    </tr>\n",
       "    <tr>\n",
       "      <th>1460</th>\n",
       "      <td>B08L7J3T31</td>\n",
       "      <td>Noir Aqua - 5pcs PP Spun Filter + 1 Spanner | ...</td>\n",
       "      <td>Home&amp;Kitchen|Kitchen&amp;HomeAppliances|WaterPurif...</td>\n",
       "      <td>379.0</td>\n",
       "      <td>919.0</td>\n",
       "      <td>0.59</td>\n",
       "      <td>4.0</td>\n",
       "      <td>1090.0</td>\n",
       "    </tr>\n",
       "    <tr>\n",
       "      <th>1461</th>\n",
       "      <td>B01M6453MB</td>\n",
       "      <td>Prestige Delight PRWO Electric Rice Cooker (1 ...</td>\n",
       "      <td>Home&amp;Kitchen|Kitchen&amp;HomeAppliances|SmallKitch...</td>\n",
       "      <td>2280.0</td>\n",
       "      <td>3045.0</td>\n",
       "      <td>0.25</td>\n",
       "      <td>4.1</td>\n",
       "      <td>4118.0</td>\n",
       "    </tr>\n",
       "    <tr>\n",
       "      <th>1462</th>\n",
       "      <td>B009P2LIL4</td>\n",
       "      <td>Bajaj Majesty RX10 2000 Watts Heat Convector R...</td>\n",
       "      <td>Home&amp;Kitchen|Heating,Cooling&amp;AirQuality|RoomHe...</td>\n",
       "      <td>2219.0</td>\n",
       "      <td>3080.0</td>\n",
       "      <td>0.28</td>\n",
       "      <td>3.6</td>\n",
       "      <td>468.0</td>\n",
       "    </tr>\n",
       "    <tr>\n",
       "      <th>1463</th>\n",
       "      <td>B00J5DYCCA</td>\n",
       "      <td>Havells Ventil Air DSP 230mm Exhaust Fan (Pist...</td>\n",
       "      <td>Home&amp;Kitchen|Heating,Cooling&amp;AirQuality|Fans|E...</td>\n",
       "      <td>1399.0</td>\n",
       "      <td>1890.0</td>\n",
       "      <td>0.26</td>\n",
       "      <td>4.0</td>\n",
       "      <td>8031.0</td>\n",
       "    </tr>\n",
       "    <tr>\n",
       "      <th>1464</th>\n",
       "      <td>B01486F4G6</td>\n",
       "      <td>Borosil Jumbo 1000-Watt Grill Sandwich Maker (...</td>\n",
       "      <td>Home&amp;Kitchen|Kitchen&amp;HomeAppliances|SmallKitch...</td>\n",
       "      <td>2863.0</td>\n",
       "      <td>3690.0</td>\n",
       "      <td>0.22</td>\n",
       "      <td>4.3</td>\n",
       "      <td>6987.0</td>\n",
       "    </tr>\n",
       "  </tbody>\n",
       "</table>\n",
       "<p>1465 rows × 8 columns</p>\n",
       "</div>"
      ],
      "text/plain": [
       "      product_id                                       product_name  \\\n",
       "0     B07JW9H4J1  Wayona Nylon Braided USB to Lightning Fast Cha...   \n",
       "1     B098NS6PVG  Ambrane Unbreakable 60W / 3A Fast Charging 1.5...   \n",
       "2     B096MSW6CT  Sounce Fast Phone Charging Cable & Data Sync U...   \n",
       "3     B08HDJ86NZ  boAt Deuce USB 300 2 in 1 Type-C & Micro USB S...   \n",
       "4     B08CF3B7N1  Portronics Konnect L 1.2M Fast Charging 3A 8 P...   \n",
       "...          ...                                                ...   \n",
       "1460  B08L7J3T31  Noir Aqua - 5pcs PP Spun Filter + 1 Spanner | ...   \n",
       "1461  B01M6453MB  Prestige Delight PRWO Electric Rice Cooker (1 ...   \n",
       "1462  B009P2LIL4  Bajaj Majesty RX10 2000 Watts Heat Convector R...   \n",
       "1463  B00J5DYCCA  Havells Ventil Air DSP 230mm Exhaust Fan (Pist...   \n",
       "1464  B01486F4G6  Borosil Jumbo 1000-Watt Grill Sandwich Maker (...   \n",
       "\n",
       "                                               category  discounted_price  \\\n",
       "0     Computers&Accessories|Accessories&Peripherals|...             399.0   \n",
       "1     Computers&Accessories|Accessories&Peripherals|...             199.0   \n",
       "2     Computers&Accessories|Accessories&Peripherals|...             199.0   \n",
       "3     Computers&Accessories|Accessories&Peripherals|...             329.0   \n",
       "4     Computers&Accessories|Accessories&Peripherals|...             154.0   \n",
       "...                                                 ...               ...   \n",
       "1460  Home&Kitchen|Kitchen&HomeAppliances|WaterPurif...             379.0   \n",
       "1461  Home&Kitchen|Kitchen&HomeAppliances|SmallKitch...            2280.0   \n",
       "1462  Home&Kitchen|Heating,Cooling&AirQuality|RoomHe...            2219.0   \n",
       "1463  Home&Kitchen|Heating,Cooling&AirQuality|Fans|E...            1399.0   \n",
       "1464  Home&Kitchen|Kitchen&HomeAppliances|SmallKitch...            2863.0   \n",
       "\n",
       "      actual_price  discount_percentage  rating  rating_count  \n",
       "0           1099.0                 0.64     4.2       24269.0  \n",
       "1            349.0                 0.43     4.0       43994.0  \n",
       "2           1899.0                 0.90     3.9        7928.0  \n",
       "3            699.0                 0.53     4.2       94363.0  \n",
       "4            399.0                 0.61     4.2       16905.0  \n",
       "...            ...                  ...     ...           ...  \n",
       "1460         919.0                 0.59     4.0        1090.0  \n",
       "1461        3045.0                 0.25     4.1        4118.0  \n",
       "1462        3080.0                 0.28     3.6         468.0  \n",
       "1463        1890.0                 0.26     4.0        8031.0  \n",
       "1464        3690.0                 0.22     4.3        6987.0  \n",
       "\n",
       "[1465 rows x 8 columns]"
      ]
     },
     "execution_count": 114,
     "metadata": {},
     "output_type": "execute_result"
    }
   ],
   "source": [
    "#Creating a new DataFrame with Selected Column\n",
    "\n",
    "amazon_new = amazon[['product_id', 'product_name', 'category', 'discounted_price', 'actual_price', 'discount_percentage', 'rating', 'rating_count']].copy()\n",
    "amazon_new "
   ]
  },
  {
   "cell_type": "markdown",
   "id": "d43afc5a",
   "metadata": {
    "slideshow": {
     "slide_type": "slide"
    }
   },
   "source": [
    "# Splitting the Strings in the category column"
   ]
  },
  {
   "cell_type": "code",
   "execution_count": 115,
   "id": "6eb304e3",
   "metadata": {
    "slideshow": {
     "slide_type": "skip"
    }
   },
   "outputs": [
    {
     "data": {
      "text/html": [
       "<div>\n",
       "<style scoped>\n",
       "    .dataframe tbody tr th:only-of-type {\n",
       "        vertical-align: middle;\n",
       "    }\n",
       "\n",
       "    .dataframe tbody tr th {\n",
       "        vertical-align: top;\n",
       "    }\n",
       "\n",
       "    .dataframe thead th {\n",
       "        text-align: right;\n",
       "    }\n",
       "</style>\n",
       "<table border=\"1\" class=\"dataframe\">\n",
       "  <thead>\n",
       "    <tr style=\"text-align: right;\">\n",
       "      <th></th>\n",
       "      <th>0</th>\n",
       "      <th>1</th>\n",
       "      <th>2</th>\n",
       "      <th>3</th>\n",
       "      <th>4</th>\n",
       "      <th>5</th>\n",
       "      <th>6</th>\n",
       "    </tr>\n",
       "  </thead>\n",
       "  <tbody>\n",
       "    <tr>\n",
       "      <th>0</th>\n",
       "      <td>Computers&amp;Accessories</td>\n",
       "      <td>Accessories&amp;Peripherals</td>\n",
       "      <td>Cables&amp;Accessories</td>\n",
       "      <td>Cables</td>\n",
       "      <td>USBCables</td>\n",
       "      <td>None</td>\n",
       "      <td>None</td>\n",
       "    </tr>\n",
       "    <tr>\n",
       "      <th>1</th>\n",
       "      <td>Computers&amp;Accessories</td>\n",
       "      <td>Accessories&amp;Peripherals</td>\n",
       "      <td>Cables&amp;Accessories</td>\n",
       "      <td>Cables</td>\n",
       "      <td>USBCables</td>\n",
       "      <td>None</td>\n",
       "      <td>None</td>\n",
       "    </tr>\n",
       "    <tr>\n",
       "      <th>2</th>\n",
       "      <td>Computers&amp;Accessories</td>\n",
       "      <td>Accessories&amp;Peripherals</td>\n",
       "      <td>Cables&amp;Accessories</td>\n",
       "      <td>Cables</td>\n",
       "      <td>USBCables</td>\n",
       "      <td>None</td>\n",
       "      <td>None</td>\n",
       "    </tr>\n",
       "    <tr>\n",
       "      <th>3</th>\n",
       "      <td>Computers&amp;Accessories</td>\n",
       "      <td>Accessories&amp;Peripherals</td>\n",
       "      <td>Cables&amp;Accessories</td>\n",
       "      <td>Cables</td>\n",
       "      <td>USBCables</td>\n",
       "      <td>None</td>\n",
       "      <td>None</td>\n",
       "    </tr>\n",
       "    <tr>\n",
       "      <th>4</th>\n",
       "      <td>Computers&amp;Accessories</td>\n",
       "      <td>Accessories&amp;Peripherals</td>\n",
       "      <td>Cables&amp;Accessories</td>\n",
       "      <td>Cables</td>\n",
       "      <td>USBCables</td>\n",
       "      <td>None</td>\n",
       "      <td>None</td>\n",
       "    </tr>\n",
       "    <tr>\n",
       "      <th>...</th>\n",
       "      <td>...</td>\n",
       "      <td>...</td>\n",
       "      <td>...</td>\n",
       "      <td>...</td>\n",
       "      <td>...</td>\n",
       "      <td>...</td>\n",
       "      <td>...</td>\n",
       "    </tr>\n",
       "    <tr>\n",
       "      <th>1460</th>\n",
       "      <td>Home&amp;Kitchen</td>\n",
       "      <td>Kitchen&amp;HomeAppliances</td>\n",
       "      <td>WaterPurifiers&amp;Accessories</td>\n",
       "      <td>WaterPurifierAccessories</td>\n",
       "      <td>None</td>\n",
       "      <td>None</td>\n",
       "      <td>None</td>\n",
       "    </tr>\n",
       "    <tr>\n",
       "      <th>1461</th>\n",
       "      <td>Home&amp;Kitchen</td>\n",
       "      <td>Kitchen&amp;HomeAppliances</td>\n",
       "      <td>SmallKitchenAppliances</td>\n",
       "      <td>Rice&amp;PastaCookers</td>\n",
       "      <td>None</td>\n",
       "      <td>None</td>\n",
       "      <td>None</td>\n",
       "    </tr>\n",
       "    <tr>\n",
       "      <th>1462</th>\n",
       "      <td>Home&amp;Kitchen</td>\n",
       "      <td>Heating,Cooling&amp;AirQuality</td>\n",
       "      <td>RoomHeaters</td>\n",
       "      <td>HeatConvectors</td>\n",
       "      <td>None</td>\n",
       "      <td>None</td>\n",
       "      <td>None</td>\n",
       "    </tr>\n",
       "    <tr>\n",
       "      <th>1463</th>\n",
       "      <td>Home&amp;Kitchen</td>\n",
       "      <td>Heating,Cooling&amp;AirQuality</td>\n",
       "      <td>Fans</td>\n",
       "      <td>ExhaustFans</td>\n",
       "      <td>None</td>\n",
       "      <td>None</td>\n",
       "      <td>None</td>\n",
       "    </tr>\n",
       "    <tr>\n",
       "      <th>1464</th>\n",
       "      <td>Home&amp;Kitchen</td>\n",
       "      <td>Kitchen&amp;HomeAppliances</td>\n",
       "      <td>SmallKitchenAppliances</td>\n",
       "      <td>SandwichMakers</td>\n",
       "      <td>None</td>\n",
       "      <td>None</td>\n",
       "      <td>None</td>\n",
       "    </tr>\n",
       "  </tbody>\n",
       "</table>\n",
       "<p>1465 rows × 7 columns</p>\n",
       "</div>"
      ],
      "text/plain": [
       "                          0                           1  \\\n",
       "0     Computers&Accessories     Accessories&Peripherals   \n",
       "1     Computers&Accessories     Accessories&Peripherals   \n",
       "2     Computers&Accessories     Accessories&Peripherals   \n",
       "3     Computers&Accessories     Accessories&Peripherals   \n",
       "4     Computers&Accessories     Accessories&Peripherals   \n",
       "...                     ...                         ...   \n",
       "1460           Home&Kitchen      Kitchen&HomeAppliances   \n",
       "1461           Home&Kitchen      Kitchen&HomeAppliances   \n",
       "1462           Home&Kitchen  Heating,Cooling&AirQuality   \n",
       "1463           Home&Kitchen  Heating,Cooling&AirQuality   \n",
       "1464           Home&Kitchen      Kitchen&HomeAppliances   \n",
       "\n",
       "                               2                         3          4     5  \\\n",
       "0             Cables&Accessories                    Cables  USBCables  None   \n",
       "1             Cables&Accessories                    Cables  USBCables  None   \n",
       "2             Cables&Accessories                    Cables  USBCables  None   \n",
       "3             Cables&Accessories                    Cables  USBCables  None   \n",
       "4             Cables&Accessories                    Cables  USBCables  None   \n",
       "...                          ...                       ...        ...   ...   \n",
       "1460  WaterPurifiers&Accessories  WaterPurifierAccessories       None  None   \n",
       "1461      SmallKitchenAppliances         Rice&PastaCookers       None  None   \n",
       "1462                 RoomHeaters            HeatConvectors       None  None   \n",
       "1463                        Fans               ExhaustFans       None  None   \n",
       "1464      SmallKitchenAppliances            SandwichMakers       None  None   \n",
       "\n",
       "         6  \n",
       "0     None  \n",
       "1     None  \n",
       "2     None  \n",
       "3     None  \n",
       "4     None  \n",
       "...    ...  \n",
       "1460  None  \n",
       "1461  None  \n",
       "1462  None  \n",
       "1463  None  \n",
       "1464  None  \n",
       "\n",
       "[1465 rows x 7 columns]"
      ]
     },
     "execution_count": 115,
     "metadata": {},
     "output_type": "execute_result"
    }
   ],
   "source": [
    "#Splitting the Strings in the category column\n",
    "\n",
    "catsplit = amazon['category'].str.split('|', expand=True)\n",
    "catsplit"
   ]
  },
  {
   "cell_type": "code",
   "execution_count": 116,
   "id": "eccb17a0",
   "metadata": {
    "slideshow": {
     "slide_type": "skip"
    }
   },
   "outputs": [],
   "source": [
    "#Renaming category column\n",
    "\n",
    "catsplit = catsplit.rename(columns={0:'category_1', 1:'category_2', 2:'category_3'})"
   ]
  },
  {
   "cell_type": "code",
   "execution_count": 117,
   "id": "7b7c4e67",
   "metadata": {
    "slideshow": {
     "slide_type": "subslide"
    }
   },
   "outputs": [
    {
     "data": {
      "text/html": [
       "<div>\n",
       "<style scoped>\n",
       "    .dataframe tbody tr th:only-of-type {\n",
       "        vertical-align: middle;\n",
       "    }\n",
       "\n",
       "    .dataframe tbody tr th {\n",
       "        vertical-align: top;\n",
       "    }\n",
       "\n",
       "    .dataframe thead th {\n",
       "        text-align: right;\n",
       "    }\n",
       "</style>\n",
       "<table border=\"1\" class=\"dataframe\">\n",
       "  <thead>\n",
       "    <tr style=\"text-align: right;\">\n",
       "      <th></th>\n",
       "      <th>product_id</th>\n",
       "      <th>product_name</th>\n",
       "      <th>discounted_price</th>\n",
       "      <th>actual_price</th>\n",
       "      <th>discount_percentage</th>\n",
       "      <th>rating</th>\n",
       "      <th>rating_count</th>\n",
       "      <th>category_1</th>\n",
       "      <th>category_2</th>\n",
       "    </tr>\n",
       "  </thead>\n",
       "  <tbody>\n",
       "    <tr>\n",
       "      <th>0</th>\n",
       "      <td>B07JW9H4J1</td>\n",
       "      <td>Wayona Nylon Braided USB to Lightning Fast Cha...</td>\n",
       "      <td>399.0</td>\n",
       "      <td>1099.0</td>\n",
       "      <td>0.64</td>\n",
       "      <td>4.2</td>\n",
       "      <td>24269.0</td>\n",
       "      <td>Computers&amp;Accessories</td>\n",
       "      <td>Accessories&amp;Peripherals</td>\n",
       "    </tr>\n",
       "    <tr>\n",
       "      <th>1</th>\n",
       "      <td>B098NS6PVG</td>\n",
       "      <td>Ambrane Unbreakable 60W / 3A Fast Charging 1.5...</td>\n",
       "      <td>199.0</td>\n",
       "      <td>349.0</td>\n",
       "      <td>0.43</td>\n",
       "      <td>4.0</td>\n",
       "      <td>43994.0</td>\n",
       "      <td>Computers&amp;Accessories</td>\n",
       "      <td>Accessories&amp;Peripherals</td>\n",
       "    </tr>\n",
       "    <tr>\n",
       "      <th>2</th>\n",
       "      <td>B096MSW6CT</td>\n",
       "      <td>Sounce Fast Phone Charging Cable &amp; Data Sync U...</td>\n",
       "      <td>199.0</td>\n",
       "      <td>1899.0</td>\n",
       "      <td>0.90</td>\n",
       "      <td>3.9</td>\n",
       "      <td>7928.0</td>\n",
       "      <td>Computers&amp;Accessories</td>\n",
       "      <td>Accessories&amp;Peripherals</td>\n",
       "    </tr>\n",
       "    <tr>\n",
       "      <th>3</th>\n",
       "      <td>B08HDJ86NZ</td>\n",
       "      <td>boAt Deuce USB 300 2 in 1 Type-C &amp; Micro USB S...</td>\n",
       "      <td>329.0</td>\n",
       "      <td>699.0</td>\n",
       "      <td>0.53</td>\n",
       "      <td>4.2</td>\n",
       "      <td>94363.0</td>\n",
       "      <td>Computers&amp;Accessories</td>\n",
       "      <td>Accessories&amp;Peripherals</td>\n",
       "    </tr>\n",
       "    <tr>\n",
       "      <th>4</th>\n",
       "      <td>B08CF3B7N1</td>\n",
       "      <td>Portronics Konnect L 1.2M Fast Charging 3A 8 P...</td>\n",
       "      <td>154.0</td>\n",
       "      <td>399.0</td>\n",
       "      <td>0.61</td>\n",
       "      <td>4.2</td>\n",
       "      <td>16905.0</td>\n",
       "      <td>Computers&amp;Accessories</td>\n",
       "      <td>Accessories&amp;Peripherals</td>\n",
       "    </tr>\n",
       "    <tr>\n",
       "      <th>...</th>\n",
       "      <td>...</td>\n",
       "      <td>...</td>\n",
       "      <td>...</td>\n",
       "      <td>...</td>\n",
       "      <td>...</td>\n",
       "      <td>...</td>\n",
       "      <td>...</td>\n",
       "      <td>...</td>\n",
       "      <td>...</td>\n",
       "    </tr>\n",
       "    <tr>\n",
       "      <th>1460</th>\n",
       "      <td>B08L7J3T31</td>\n",
       "      <td>Noir Aqua - 5pcs PP Spun Filter + 1 Spanner | ...</td>\n",
       "      <td>379.0</td>\n",
       "      <td>919.0</td>\n",
       "      <td>0.59</td>\n",
       "      <td>4.0</td>\n",
       "      <td>1090.0</td>\n",
       "      <td>Home&amp;Kitchen</td>\n",
       "      <td>Kitchen&amp;HomeAppliances</td>\n",
       "    </tr>\n",
       "    <tr>\n",
       "      <th>1461</th>\n",
       "      <td>B01M6453MB</td>\n",
       "      <td>Prestige Delight PRWO Electric Rice Cooker (1 ...</td>\n",
       "      <td>2280.0</td>\n",
       "      <td>3045.0</td>\n",
       "      <td>0.25</td>\n",
       "      <td>4.1</td>\n",
       "      <td>4118.0</td>\n",
       "      <td>Home&amp;Kitchen</td>\n",
       "      <td>Kitchen&amp;HomeAppliances</td>\n",
       "    </tr>\n",
       "    <tr>\n",
       "      <th>1462</th>\n",
       "      <td>B009P2LIL4</td>\n",
       "      <td>Bajaj Majesty RX10 2000 Watts Heat Convector R...</td>\n",
       "      <td>2219.0</td>\n",
       "      <td>3080.0</td>\n",
       "      <td>0.28</td>\n",
       "      <td>3.6</td>\n",
       "      <td>468.0</td>\n",
       "      <td>Home&amp;Kitchen</td>\n",
       "      <td>Heating,Cooling&amp;AirQuality</td>\n",
       "    </tr>\n",
       "    <tr>\n",
       "      <th>1463</th>\n",
       "      <td>B00J5DYCCA</td>\n",
       "      <td>Havells Ventil Air DSP 230mm Exhaust Fan (Pist...</td>\n",
       "      <td>1399.0</td>\n",
       "      <td>1890.0</td>\n",
       "      <td>0.26</td>\n",
       "      <td>4.0</td>\n",
       "      <td>8031.0</td>\n",
       "      <td>Home&amp;Kitchen</td>\n",
       "      <td>Heating,Cooling&amp;AirQuality</td>\n",
       "    </tr>\n",
       "    <tr>\n",
       "      <th>1464</th>\n",
       "      <td>B01486F4G6</td>\n",
       "      <td>Borosil Jumbo 1000-Watt Grill Sandwich Maker (...</td>\n",
       "      <td>2863.0</td>\n",
       "      <td>3690.0</td>\n",
       "      <td>0.22</td>\n",
       "      <td>4.3</td>\n",
       "      <td>6987.0</td>\n",
       "      <td>Home&amp;Kitchen</td>\n",
       "      <td>Kitchen&amp;HomeAppliances</td>\n",
       "    </tr>\n",
       "  </tbody>\n",
       "</table>\n",
       "<p>1465 rows × 9 columns</p>\n",
       "</div>"
      ],
      "text/plain": [
       "      product_id                                       product_name  \\\n",
       "0     B07JW9H4J1  Wayona Nylon Braided USB to Lightning Fast Cha...   \n",
       "1     B098NS6PVG  Ambrane Unbreakable 60W / 3A Fast Charging 1.5...   \n",
       "2     B096MSW6CT  Sounce Fast Phone Charging Cable & Data Sync U...   \n",
       "3     B08HDJ86NZ  boAt Deuce USB 300 2 in 1 Type-C & Micro USB S...   \n",
       "4     B08CF3B7N1  Portronics Konnect L 1.2M Fast Charging 3A 8 P...   \n",
       "...          ...                                                ...   \n",
       "1460  B08L7J3T31  Noir Aqua - 5pcs PP Spun Filter + 1 Spanner | ...   \n",
       "1461  B01M6453MB  Prestige Delight PRWO Electric Rice Cooker (1 ...   \n",
       "1462  B009P2LIL4  Bajaj Majesty RX10 2000 Watts Heat Convector R...   \n",
       "1463  B00J5DYCCA  Havells Ventil Air DSP 230mm Exhaust Fan (Pist...   \n",
       "1464  B01486F4G6  Borosil Jumbo 1000-Watt Grill Sandwich Maker (...   \n",
       "\n",
       "      discounted_price  actual_price  discount_percentage  rating  \\\n",
       "0                399.0        1099.0                 0.64     4.2   \n",
       "1                199.0         349.0                 0.43     4.0   \n",
       "2                199.0        1899.0                 0.90     3.9   \n",
       "3                329.0         699.0                 0.53     4.2   \n",
       "4                154.0         399.0                 0.61     4.2   \n",
       "...                ...           ...                  ...     ...   \n",
       "1460             379.0         919.0                 0.59     4.0   \n",
       "1461            2280.0        3045.0                 0.25     4.1   \n",
       "1462            2219.0        3080.0                 0.28     3.6   \n",
       "1463            1399.0        1890.0                 0.26     4.0   \n",
       "1464            2863.0        3690.0                 0.22     4.3   \n",
       "\n",
       "      rating_count             category_1                  category_2  \n",
       "0          24269.0  Computers&Accessories     Accessories&Peripherals  \n",
       "1          43994.0  Computers&Accessories     Accessories&Peripherals  \n",
       "2           7928.0  Computers&Accessories     Accessories&Peripherals  \n",
       "3          94363.0  Computers&Accessories     Accessories&Peripherals  \n",
       "4          16905.0  Computers&Accessories     Accessories&Peripherals  \n",
       "...            ...                    ...                         ...  \n",
       "1460        1090.0           Home&Kitchen      Kitchen&HomeAppliances  \n",
       "1461        4118.0           Home&Kitchen      Kitchen&HomeAppliances  \n",
       "1462         468.0           Home&Kitchen  Heating,Cooling&AirQuality  \n",
       "1463        8031.0           Home&Kitchen  Heating,Cooling&AirQuality  \n",
       "1464        6987.0           Home&Kitchen      Kitchen&HomeAppliances  \n",
       "\n",
       "[1465 rows x 9 columns]"
      ]
     },
     "execution_count": 117,
     "metadata": {},
     "output_type": "execute_result"
    }
   ],
   "source": [
    "#Adding categories to the new dataframe\n",
    "\n",
    "amazon_new['category_1'] = catsplit['category_1']\n",
    "amazon_new['category_2'] = catsplit['category_2']\n",
    "\n",
    "amazon_new.drop(columns='category', inplace=True)\n",
    "\n",
    "amazon_new"
   ]
  },
  {
   "cell_type": "code",
   "execution_count": 118,
   "id": "7c27f3db",
   "metadata": {
    "slideshow": {
     "slide_type": "skip"
    }
   },
   "outputs": [
    {
     "data": {
      "text/plain": [
       "Electronics              526\n",
       "Computers&Accessories    453\n",
       "Home&Kitchen             448\n",
       "OfficeProducts            31\n",
       "MusicalInstruments         2\n",
       "HomeImprovement            2\n",
       "Toys&Games                 1\n",
       "Car&Motorbike              1\n",
       "Health&PersonalCare        1\n",
       "Name: category_1, dtype: int64"
      ]
     },
     "execution_count": 118,
     "metadata": {},
     "output_type": "execute_result"
    }
   ],
   "source": [
    "#Checking category_1 unique values\n",
    "amazon_new['category_1'].value_counts()"
   ]
  },
  {
   "cell_type": "markdown",
   "id": "0e02e7e5",
   "metadata": {
    "slideshow": {
     "slide_type": "slide"
    }
   },
   "source": [
    "# Fixing Strings in the Category_1 Column\n"
   ]
  },
  {
   "cell_type": "code",
   "execution_count": 119,
   "id": "faddd082",
   "metadata": {
    "slideshow": {
     "slide_type": "subslide"
    }
   },
   "outputs": [],
   "source": [
    "#Fixing Strings in the Category_1 Column\n",
    "\n",
    "amazon_new['category_1'] = amazon_new['category_1'].str.replace('&', ' & ')\n",
    "amazon_new['category_1'] = amazon_new['category_1'].str.replace('OfficeProducts', 'Office Products')\n",
    "amazon_new['category_1'] = amazon_new['category_1'].str.replace('MusicalInstruments', 'Musical Instruments')\n",
    "amazon_new['category_1'] = amazon_new['category_1'].str.replace('HomeImprovement', 'Home Improvement')\n",
    "\n"
   ]
  },
  {
   "cell_type": "code",
   "execution_count": 120,
   "id": "91acbd2a",
   "metadata": {
    "slideshow": {
     "slide_type": "subslide"
    }
   },
   "outputs": [
    {
     "data": {
      "text/html": [
       "<div>\n",
       "<style scoped>\n",
       "    .dataframe tbody tr th:only-of-type {\n",
       "        vertical-align: middle;\n",
       "    }\n",
       "\n",
       "    .dataframe tbody tr th {\n",
       "        vertical-align: top;\n",
       "    }\n",
       "\n",
       "    .dataframe thead th {\n",
       "        text-align: right;\n",
       "    }\n",
       "</style>\n",
       "<table border=\"1\" class=\"dataframe\">\n",
       "  <thead>\n",
       "    <tr style=\"text-align: right;\">\n",
       "      <th></th>\n",
       "      <th>product_id</th>\n",
       "      <th>product_name</th>\n",
       "      <th>discounted_price</th>\n",
       "      <th>actual_price</th>\n",
       "      <th>discount_percentage</th>\n",
       "      <th>rating</th>\n",
       "      <th>rating_count</th>\n",
       "      <th>category_1</th>\n",
       "      <th>category_2</th>\n",
       "    </tr>\n",
       "  </thead>\n",
       "  <tbody>\n",
       "    <tr>\n",
       "      <th>0</th>\n",
       "      <td>B07JW9H4J1</td>\n",
       "      <td>Wayona Nylon Braided USB to Lightning Fast Cha...</td>\n",
       "      <td>399.0</td>\n",
       "      <td>1099.0</td>\n",
       "      <td>0.64</td>\n",
       "      <td>4.2</td>\n",
       "      <td>24269.0</td>\n",
       "      <td>Computers &amp; Accessories</td>\n",
       "      <td>Accessories&amp;Peripherals</td>\n",
       "    </tr>\n",
       "    <tr>\n",
       "      <th>1</th>\n",
       "      <td>B098NS6PVG</td>\n",
       "      <td>Ambrane Unbreakable 60W / 3A Fast Charging 1.5...</td>\n",
       "      <td>199.0</td>\n",
       "      <td>349.0</td>\n",
       "      <td>0.43</td>\n",
       "      <td>4.0</td>\n",
       "      <td>43994.0</td>\n",
       "      <td>Computers &amp; Accessories</td>\n",
       "      <td>Accessories&amp;Peripherals</td>\n",
       "    </tr>\n",
       "    <tr>\n",
       "      <th>2</th>\n",
       "      <td>B096MSW6CT</td>\n",
       "      <td>Sounce Fast Phone Charging Cable &amp; Data Sync U...</td>\n",
       "      <td>199.0</td>\n",
       "      <td>1899.0</td>\n",
       "      <td>0.90</td>\n",
       "      <td>3.9</td>\n",
       "      <td>7928.0</td>\n",
       "      <td>Computers &amp; Accessories</td>\n",
       "      <td>Accessories&amp;Peripherals</td>\n",
       "    </tr>\n",
       "    <tr>\n",
       "      <th>3</th>\n",
       "      <td>B08HDJ86NZ</td>\n",
       "      <td>boAt Deuce USB 300 2 in 1 Type-C &amp; Micro USB S...</td>\n",
       "      <td>329.0</td>\n",
       "      <td>699.0</td>\n",
       "      <td>0.53</td>\n",
       "      <td>4.2</td>\n",
       "      <td>94363.0</td>\n",
       "      <td>Computers &amp; Accessories</td>\n",
       "      <td>Accessories&amp;Peripherals</td>\n",
       "    </tr>\n",
       "    <tr>\n",
       "      <th>4</th>\n",
       "      <td>B08CF3B7N1</td>\n",
       "      <td>Portronics Konnect L 1.2M Fast Charging 3A 8 P...</td>\n",
       "      <td>154.0</td>\n",
       "      <td>399.0</td>\n",
       "      <td>0.61</td>\n",
       "      <td>4.2</td>\n",
       "      <td>16905.0</td>\n",
       "      <td>Computers &amp; Accessories</td>\n",
       "      <td>Accessories&amp;Peripherals</td>\n",
       "    </tr>\n",
       "    <tr>\n",
       "      <th>...</th>\n",
       "      <td>...</td>\n",
       "      <td>...</td>\n",
       "      <td>...</td>\n",
       "      <td>...</td>\n",
       "      <td>...</td>\n",
       "      <td>...</td>\n",
       "      <td>...</td>\n",
       "      <td>...</td>\n",
       "      <td>...</td>\n",
       "    </tr>\n",
       "    <tr>\n",
       "      <th>1460</th>\n",
       "      <td>B08L7J3T31</td>\n",
       "      <td>Noir Aqua - 5pcs PP Spun Filter + 1 Spanner | ...</td>\n",
       "      <td>379.0</td>\n",
       "      <td>919.0</td>\n",
       "      <td>0.59</td>\n",
       "      <td>4.0</td>\n",
       "      <td>1090.0</td>\n",
       "      <td>Home &amp; Kitchen</td>\n",
       "      <td>Kitchen&amp;HomeAppliances</td>\n",
       "    </tr>\n",
       "    <tr>\n",
       "      <th>1461</th>\n",
       "      <td>B01M6453MB</td>\n",
       "      <td>Prestige Delight PRWO Electric Rice Cooker (1 ...</td>\n",
       "      <td>2280.0</td>\n",
       "      <td>3045.0</td>\n",
       "      <td>0.25</td>\n",
       "      <td>4.1</td>\n",
       "      <td>4118.0</td>\n",
       "      <td>Home &amp; Kitchen</td>\n",
       "      <td>Kitchen&amp;HomeAppliances</td>\n",
       "    </tr>\n",
       "    <tr>\n",
       "      <th>1462</th>\n",
       "      <td>B009P2LIL4</td>\n",
       "      <td>Bajaj Majesty RX10 2000 Watts Heat Convector R...</td>\n",
       "      <td>2219.0</td>\n",
       "      <td>3080.0</td>\n",
       "      <td>0.28</td>\n",
       "      <td>3.6</td>\n",
       "      <td>468.0</td>\n",
       "      <td>Home &amp; Kitchen</td>\n",
       "      <td>Heating,Cooling&amp;AirQuality</td>\n",
       "    </tr>\n",
       "    <tr>\n",
       "      <th>1463</th>\n",
       "      <td>B00J5DYCCA</td>\n",
       "      <td>Havells Ventil Air DSP 230mm Exhaust Fan (Pist...</td>\n",
       "      <td>1399.0</td>\n",
       "      <td>1890.0</td>\n",
       "      <td>0.26</td>\n",
       "      <td>4.0</td>\n",
       "      <td>8031.0</td>\n",
       "      <td>Home &amp; Kitchen</td>\n",
       "      <td>Heating,Cooling&amp;AirQuality</td>\n",
       "    </tr>\n",
       "    <tr>\n",
       "      <th>1464</th>\n",
       "      <td>B01486F4G6</td>\n",
       "      <td>Borosil Jumbo 1000-Watt Grill Sandwich Maker (...</td>\n",
       "      <td>2863.0</td>\n",
       "      <td>3690.0</td>\n",
       "      <td>0.22</td>\n",
       "      <td>4.3</td>\n",
       "      <td>6987.0</td>\n",
       "      <td>Home &amp; Kitchen</td>\n",
       "      <td>Kitchen&amp;HomeAppliances</td>\n",
       "    </tr>\n",
       "  </tbody>\n",
       "</table>\n",
       "<p>1465 rows × 9 columns</p>\n",
       "</div>"
      ],
      "text/plain": [
       "      product_id                                       product_name  \\\n",
       "0     B07JW9H4J1  Wayona Nylon Braided USB to Lightning Fast Cha...   \n",
       "1     B098NS6PVG  Ambrane Unbreakable 60W / 3A Fast Charging 1.5...   \n",
       "2     B096MSW6CT  Sounce Fast Phone Charging Cable & Data Sync U...   \n",
       "3     B08HDJ86NZ  boAt Deuce USB 300 2 in 1 Type-C & Micro USB S...   \n",
       "4     B08CF3B7N1  Portronics Konnect L 1.2M Fast Charging 3A 8 P...   \n",
       "...          ...                                                ...   \n",
       "1460  B08L7J3T31  Noir Aqua - 5pcs PP Spun Filter + 1 Spanner | ...   \n",
       "1461  B01M6453MB  Prestige Delight PRWO Electric Rice Cooker (1 ...   \n",
       "1462  B009P2LIL4  Bajaj Majesty RX10 2000 Watts Heat Convector R...   \n",
       "1463  B00J5DYCCA  Havells Ventil Air DSP 230mm Exhaust Fan (Pist...   \n",
       "1464  B01486F4G6  Borosil Jumbo 1000-Watt Grill Sandwich Maker (...   \n",
       "\n",
       "      discounted_price  actual_price  discount_percentage  rating  \\\n",
       "0                399.0        1099.0                 0.64     4.2   \n",
       "1                199.0         349.0                 0.43     4.0   \n",
       "2                199.0        1899.0                 0.90     3.9   \n",
       "3                329.0         699.0                 0.53     4.2   \n",
       "4                154.0         399.0                 0.61     4.2   \n",
       "...                ...           ...                  ...     ...   \n",
       "1460             379.0         919.0                 0.59     4.0   \n",
       "1461            2280.0        3045.0                 0.25     4.1   \n",
       "1462            2219.0        3080.0                 0.28     3.6   \n",
       "1463            1399.0        1890.0                 0.26     4.0   \n",
       "1464            2863.0        3690.0                 0.22     4.3   \n",
       "\n",
       "      rating_count               category_1                  category_2  \n",
       "0          24269.0  Computers & Accessories     Accessories&Peripherals  \n",
       "1          43994.0  Computers & Accessories     Accessories&Peripherals  \n",
       "2           7928.0  Computers & Accessories     Accessories&Peripherals  \n",
       "3          94363.0  Computers & Accessories     Accessories&Peripherals  \n",
       "4          16905.0  Computers & Accessories     Accessories&Peripherals  \n",
       "...            ...                      ...                         ...  \n",
       "1460        1090.0           Home & Kitchen      Kitchen&HomeAppliances  \n",
       "1461        4118.0           Home & Kitchen      Kitchen&HomeAppliances  \n",
       "1462         468.0           Home & Kitchen  Heating,Cooling&AirQuality  \n",
       "1463        8031.0           Home & Kitchen  Heating,Cooling&AirQuality  \n",
       "1464        6987.0           Home & Kitchen      Kitchen&HomeAppliances  \n",
       "\n",
       "[1465 rows x 9 columns]"
      ]
     },
     "execution_count": 120,
     "metadata": {},
     "output_type": "execute_result"
    }
   ],
   "source": [
    "amazon_new"
   ]
  },
  {
   "cell_type": "code",
   "execution_count": 121,
   "id": "eea08ef1",
   "metadata": {
    "slideshow": {
     "slide_type": "slide"
    }
   },
   "outputs": [
    {
     "data": {
      "text/plain": [
       "Accessories&Peripherals                    381\n",
       "Kitchen&HomeAppliances                     308\n",
       "HomeTheater,TV&Video                       162\n",
       "Mobiles&Accessories                        161\n",
       "Heating,Cooling&AirQuality                 116\n",
       "WearableTechnology                          76\n",
       "Headphones,Earbuds&Accessories              66\n",
       "NetworkingDevices                           34\n",
       "OfficePaperProducts                         27\n",
       "ExternalDevices&DataStorage                 18\n",
       "Cameras&Photography                         16\n",
       "HomeStorage&Organization                    16\n",
       "HomeAudio                                   16\n",
       "GeneralPurposeBatteries&BatteryChargers     14\n",
       "Accessories                                 14\n",
       "Printers,Inks&Accessories                   11\n",
       "CraftMaterials                               7\n",
       "Components                                   5\n",
       "OfficeElectronics                            4\n",
       "Electrical                                   2\n",
       "Monitors                                     2\n",
       "Microphones                                  2\n",
       "Arts&Crafts                                  1\n",
       "PowerAccessories                             1\n",
       "Tablets                                      1\n",
       "Laptops                                      1\n",
       "Kitchen&Dining                               1\n",
       "CarAccessories                               1\n",
       "HomeMedicalSupplies&Equipment                1\n",
       "Name: category_2, dtype: int64"
      ]
     },
     "execution_count": 121,
     "metadata": {},
     "output_type": "execute_result"
    }
   ],
   "source": [
    "#Checking category_2 unique values\n",
    "\n",
    "amazon_new['category_2'].value_counts()"
   ]
  },
  {
   "cell_type": "code",
   "execution_count": 122,
   "id": "336d735d",
   "metadata": {
    "slideshow": {
     "slide_type": "skip"
    }
   },
   "outputs": [],
   "source": [
    " #Fixing Strings in Category_2 column\n",
    "\n",
    "amazon_new['category_2'] = amazon_new['category_2'].str.replace('&', ' & ')\n",
    "amazon_new['category_2'] = amazon_new['category_2'].str.replace(',', ', ')\n",
    "amazon_new['category_2'] = amazon_new['category_2'].str.replace('HomeAppliances', 'Home Appliances')\n",
    "amazon_new['category_2'] = amazon_new['category_2'].str.replace('AirQuality', 'Air Quality')\n",
    "amazon_new['category_2'] = amazon_new['category_2'].str.replace('WearableTechnology', 'Wearable Technology')\n",
    "amazon_new['category_2'] = amazon_new['category_2'].str.replace('NetworkingDevices', 'Networking Devices')\n",
    "amazon_new['category_2'] = amazon_new['category_2'].str.replace('OfficePaperProducts', 'Office Paper Products')\n",
    "amazon_new['category_2'] = amazon_new['category_2'].str.replace('ExternalDevices', 'External Devices')\n",
    "amazon_new['category_2'] = amazon_new['category_2'].str.replace('DataStorage', 'Data Storage')\n",
    "amazon_new['category_2'] = amazon_new['category_2'].str.replace('HomeStorage', 'Home Storage')\n",
    "amazon_new['category_2'] = amazon_new['category_2'].str.replace('HomeAudio', 'Home Audio')\n",
    "amazon_new['category_2'] = amazon_new['category_2'].str.replace('GeneralPurposeBatteries', 'General Purpose Batteries')\n",
    "amazon_new['category_2'] = amazon_new['category_2'].str.replace('BatteryChargers', 'Battery Chargers')\n",
    "amazon_new['category_2'] = amazon_new['category_2'].str.replace('CraftMaterials', 'Craft Materials')\n",
    "amazon_new['category_2'] = amazon_new['category_2'].str.replace('OfficeElectronics', 'Office Electronics')\n",
    "amazon_new['category_2'] = amazon_new['category_2'].str.replace('PowerAccessories', 'Power Accessories')\n",
    "amazon_new['category_2'] = amazon_new['category_2'].str.replace('CarAccessories', 'Car Accessories')\n",
    "amazon_new['category_2'] = amazon_new['category_2'].str.replace('HomeMedicalSupplies', 'Home Medical Supplies')\n",
    "amazon_new['category_2'] = amazon_new['category_2'].str.replace('HomeTheater', 'Home Theater')"
   ]
  },
  {
   "cell_type": "code",
   "execution_count": 123,
   "id": "442e7eb5",
   "metadata": {
    "slideshow": {
     "slide_type": "skip"
    }
   },
   "outputs": [
    {
     "data": {
      "text/html": [
       "<div>\n",
       "<style scoped>\n",
       "    .dataframe tbody tr th:only-of-type {\n",
       "        vertical-align: middle;\n",
       "    }\n",
       "\n",
       "    .dataframe tbody tr th {\n",
       "        vertical-align: top;\n",
       "    }\n",
       "\n",
       "    .dataframe thead th {\n",
       "        text-align: right;\n",
       "    }\n",
       "</style>\n",
       "<table border=\"1\" class=\"dataframe\">\n",
       "  <thead>\n",
       "    <tr style=\"text-align: right;\">\n",
       "      <th></th>\n",
       "      <th>product_id</th>\n",
       "      <th>product_name</th>\n",
       "      <th>discounted_price</th>\n",
       "      <th>actual_price</th>\n",
       "      <th>discount_percentage</th>\n",
       "      <th>rating</th>\n",
       "      <th>rating_count</th>\n",
       "      <th>category_1</th>\n",
       "      <th>category_2</th>\n",
       "    </tr>\n",
       "  </thead>\n",
       "  <tbody>\n",
       "    <tr>\n",
       "      <th>0</th>\n",
       "      <td>B07JW9H4J1</td>\n",
       "      <td>Wayona Nylon Braided USB to Lightning Fast Cha...</td>\n",
       "      <td>399.0</td>\n",
       "      <td>1099.0</td>\n",
       "      <td>0.64</td>\n",
       "      <td>4.2</td>\n",
       "      <td>24269.0</td>\n",
       "      <td>Computers &amp; Accessories</td>\n",
       "      <td>Accessories &amp; Peripherals</td>\n",
       "    </tr>\n",
       "    <tr>\n",
       "      <th>1</th>\n",
       "      <td>B098NS6PVG</td>\n",
       "      <td>Ambrane Unbreakable 60W / 3A Fast Charging 1.5...</td>\n",
       "      <td>199.0</td>\n",
       "      <td>349.0</td>\n",
       "      <td>0.43</td>\n",
       "      <td>4.0</td>\n",
       "      <td>43994.0</td>\n",
       "      <td>Computers &amp; Accessories</td>\n",
       "      <td>Accessories &amp; Peripherals</td>\n",
       "    </tr>\n",
       "    <tr>\n",
       "      <th>2</th>\n",
       "      <td>B096MSW6CT</td>\n",
       "      <td>Sounce Fast Phone Charging Cable &amp; Data Sync U...</td>\n",
       "      <td>199.0</td>\n",
       "      <td>1899.0</td>\n",
       "      <td>0.90</td>\n",
       "      <td>3.9</td>\n",
       "      <td>7928.0</td>\n",
       "      <td>Computers &amp; Accessories</td>\n",
       "      <td>Accessories &amp; Peripherals</td>\n",
       "    </tr>\n",
       "    <tr>\n",
       "      <th>3</th>\n",
       "      <td>B08HDJ86NZ</td>\n",
       "      <td>boAt Deuce USB 300 2 in 1 Type-C &amp; Micro USB S...</td>\n",
       "      <td>329.0</td>\n",
       "      <td>699.0</td>\n",
       "      <td>0.53</td>\n",
       "      <td>4.2</td>\n",
       "      <td>94363.0</td>\n",
       "      <td>Computers &amp; Accessories</td>\n",
       "      <td>Accessories &amp; Peripherals</td>\n",
       "    </tr>\n",
       "    <tr>\n",
       "      <th>4</th>\n",
       "      <td>B08CF3B7N1</td>\n",
       "      <td>Portronics Konnect L 1.2M Fast Charging 3A 8 P...</td>\n",
       "      <td>154.0</td>\n",
       "      <td>399.0</td>\n",
       "      <td>0.61</td>\n",
       "      <td>4.2</td>\n",
       "      <td>16905.0</td>\n",
       "      <td>Computers &amp; Accessories</td>\n",
       "      <td>Accessories &amp; Peripherals</td>\n",
       "    </tr>\n",
       "    <tr>\n",
       "      <th>...</th>\n",
       "      <td>...</td>\n",
       "      <td>...</td>\n",
       "      <td>...</td>\n",
       "      <td>...</td>\n",
       "      <td>...</td>\n",
       "      <td>...</td>\n",
       "      <td>...</td>\n",
       "      <td>...</td>\n",
       "      <td>...</td>\n",
       "    </tr>\n",
       "    <tr>\n",
       "      <th>1460</th>\n",
       "      <td>B08L7J3T31</td>\n",
       "      <td>Noir Aqua - 5pcs PP Spun Filter + 1 Spanner | ...</td>\n",
       "      <td>379.0</td>\n",
       "      <td>919.0</td>\n",
       "      <td>0.59</td>\n",
       "      <td>4.0</td>\n",
       "      <td>1090.0</td>\n",
       "      <td>Home &amp; Kitchen</td>\n",
       "      <td>Kitchen &amp; Home Appliances</td>\n",
       "    </tr>\n",
       "    <tr>\n",
       "      <th>1461</th>\n",
       "      <td>B01M6453MB</td>\n",
       "      <td>Prestige Delight PRWO Electric Rice Cooker (1 ...</td>\n",
       "      <td>2280.0</td>\n",
       "      <td>3045.0</td>\n",
       "      <td>0.25</td>\n",
       "      <td>4.1</td>\n",
       "      <td>4118.0</td>\n",
       "      <td>Home &amp; Kitchen</td>\n",
       "      <td>Kitchen &amp; Home Appliances</td>\n",
       "    </tr>\n",
       "    <tr>\n",
       "      <th>1462</th>\n",
       "      <td>B009P2LIL4</td>\n",
       "      <td>Bajaj Majesty RX10 2000 Watts Heat Convector R...</td>\n",
       "      <td>2219.0</td>\n",
       "      <td>3080.0</td>\n",
       "      <td>0.28</td>\n",
       "      <td>3.6</td>\n",
       "      <td>468.0</td>\n",
       "      <td>Home &amp; Kitchen</td>\n",
       "      <td>Heating, Cooling &amp; Air Quality</td>\n",
       "    </tr>\n",
       "    <tr>\n",
       "      <th>1463</th>\n",
       "      <td>B00J5DYCCA</td>\n",
       "      <td>Havells Ventil Air DSP 230mm Exhaust Fan (Pist...</td>\n",
       "      <td>1399.0</td>\n",
       "      <td>1890.0</td>\n",
       "      <td>0.26</td>\n",
       "      <td>4.0</td>\n",
       "      <td>8031.0</td>\n",
       "      <td>Home &amp; Kitchen</td>\n",
       "      <td>Heating, Cooling &amp; Air Quality</td>\n",
       "    </tr>\n",
       "    <tr>\n",
       "      <th>1464</th>\n",
       "      <td>B01486F4G6</td>\n",
       "      <td>Borosil Jumbo 1000-Watt Grill Sandwich Maker (...</td>\n",
       "      <td>2863.0</td>\n",
       "      <td>3690.0</td>\n",
       "      <td>0.22</td>\n",
       "      <td>4.3</td>\n",
       "      <td>6987.0</td>\n",
       "      <td>Home &amp; Kitchen</td>\n",
       "      <td>Kitchen &amp; Home Appliances</td>\n",
       "    </tr>\n",
       "  </tbody>\n",
       "</table>\n",
       "<p>1465 rows × 9 columns</p>\n",
       "</div>"
      ],
      "text/plain": [
       "      product_id                                       product_name  \\\n",
       "0     B07JW9H4J1  Wayona Nylon Braided USB to Lightning Fast Cha...   \n",
       "1     B098NS6PVG  Ambrane Unbreakable 60W / 3A Fast Charging 1.5...   \n",
       "2     B096MSW6CT  Sounce Fast Phone Charging Cable & Data Sync U...   \n",
       "3     B08HDJ86NZ  boAt Deuce USB 300 2 in 1 Type-C & Micro USB S...   \n",
       "4     B08CF3B7N1  Portronics Konnect L 1.2M Fast Charging 3A 8 P...   \n",
       "...          ...                                                ...   \n",
       "1460  B08L7J3T31  Noir Aqua - 5pcs PP Spun Filter + 1 Spanner | ...   \n",
       "1461  B01M6453MB  Prestige Delight PRWO Electric Rice Cooker (1 ...   \n",
       "1462  B009P2LIL4  Bajaj Majesty RX10 2000 Watts Heat Convector R...   \n",
       "1463  B00J5DYCCA  Havells Ventil Air DSP 230mm Exhaust Fan (Pist...   \n",
       "1464  B01486F4G6  Borosil Jumbo 1000-Watt Grill Sandwich Maker (...   \n",
       "\n",
       "      discounted_price  actual_price  discount_percentage  rating  \\\n",
       "0                399.0        1099.0                 0.64     4.2   \n",
       "1                199.0         349.0                 0.43     4.0   \n",
       "2                199.0        1899.0                 0.90     3.9   \n",
       "3                329.0         699.0                 0.53     4.2   \n",
       "4                154.0         399.0                 0.61     4.2   \n",
       "...                ...           ...                  ...     ...   \n",
       "1460             379.0         919.0                 0.59     4.0   \n",
       "1461            2280.0        3045.0                 0.25     4.1   \n",
       "1462            2219.0        3080.0                 0.28     3.6   \n",
       "1463            1399.0        1890.0                 0.26     4.0   \n",
       "1464            2863.0        3690.0                 0.22     4.3   \n",
       "\n",
       "      rating_count               category_1                      category_2  \n",
       "0          24269.0  Computers & Accessories       Accessories & Peripherals  \n",
       "1          43994.0  Computers & Accessories       Accessories & Peripherals  \n",
       "2           7928.0  Computers & Accessories       Accessories & Peripherals  \n",
       "3          94363.0  Computers & Accessories       Accessories & Peripherals  \n",
       "4          16905.0  Computers & Accessories       Accessories & Peripherals  \n",
       "...            ...                      ...                             ...  \n",
       "1460        1090.0           Home & Kitchen       Kitchen & Home Appliances  \n",
       "1461        4118.0           Home & Kitchen       Kitchen & Home Appliances  \n",
       "1462         468.0           Home & Kitchen  Heating, Cooling & Air Quality  \n",
       "1463        8031.0           Home & Kitchen  Heating, Cooling & Air Quality  \n",
       "1464        6987.0           Home & Kitchen       Kitchen & Home Appliances  \n",
       "\n",
       "[1465 rows x 9 columns]"
      ]
     },
     "execution_count": 123,
     "metadata": {},
     "output_type": "execute_result"
    }
   ],
   "source": [
    "amazon_new"
   ]
  },
  {
   "cell_type": "markdown",
   "id": "431c24e3",
   "metadata": {
    "slideshow": {
     "slide_type": "slide"
    }
   },
   "source": [
    "# Creating Difference of Price Column between Actual Price and Discounted Price\n"
   ]
  },
  {
   "cell_type": "code",
   "execution_count": 126,
   "id": "d9456626",
   "metadata": {
    "slideshow": {
     "slide_type": "subslide"
    }
   },
   "outputs": [],
   "source": [
    "#Creating Difference of Price Column between Actual Price and Discounted Price\n",
    "\n",
    "amazon_new['difference_price'] = amazon_new['actual_price'] - amazon_new['discounted_price']"
   ]
  },
  {
   "cell_type": "code",
   "execution_count": 127,
   "id": "14c822fd",
   "metadata": {
    "slideshow": {
     "slide_type": "subslide"
    }
   },
   "outputs": [
    {
     "data": {
      "text/html": [
       "<div>\n",
       "<style scoped>\n",
       "    .dataframe tbody tr th:only-of-type {\n",
       "        vertical-align: middle;\n",
       "    }\n",
       "\n",
       "    .dataframe tbody tr th {\n",
       "        vertical-align: top;\n",
       "    }\n",
       "\n",
       "    .dataframe thead th {\n",
       "        text-align: right;\n",
       "    }\n",
       "</style>\n",
       "<table border=\"1\" class=\"dataframe\">\n",
       "  <thead>\n",
       "    <tr style=\"text-align: right;\">\n",
       "      <th></th>\n",
       "      <th>product_id</th>\n",
       "      <th>product_name</th>\n",
       "      <th>discounted_price</th>\n",
       "      <th>actual_price</th>\n",
       "      <th>difference_price</th>\n",
       "      <th>discount_percentage</th>\n",
       "      <th>rating</th>\n",
       "      <th>rating_score</th>\n",
       "      <th>rating_count</th>\n",
       "      <th>category_1</th>\n",
       "      <th>category_2</th>\n",
       "    </tr>\n",
       "  </thead>\n",
       "  <tbody>\n",
       "    <tr>\n",
       "      <th>0</th>\n",
       "      <td>B07JW9H4J1</td>\n",
       "      <td>Wayona Nylon Braided USB to Lightning Fast Cha...</td>\n",
       "      <td>399.0</td>\n",
       "      <td>1099.0</td>\n",
       "      <td>700.0</td>\n",
       "      <td>0.64</td>\n",
       "      <td>4.2</td>\n",
       "      <td>Above Average</td>\n",
       "      <td>24269.0</td>\n",
       "      <td>Computers &amp; Accessories</td>\n",
       "      <td>Accessories &amp; Peripherals</td>\n",
       "    </tr>\n",
       "    <tr>\n",
       "      <th>1</th>\n",
       "      <td>B098NS6PVG</td>\n",
       "      <td>Ambrane Unbreakable 60W / 3A Fast Charging 1.5...</td>\n",
       "      <td>199.0</td>\n",
       "      <td>349.0</td>\n",
       "      <td>150.0</td>\n",
       "      <td>0.43</td>\n",
       "      <td>4.0</td>\n",
       "      <td>Above Average</td>\n",
       "      <td>43994.0</td>\n",
       "      <td>Computers &amp; Accessories</td>\n",
       "      <td>Accessories &amp; Peripherals</td>\n",
       "    </tr>\n",
       "    <tr>\n",
       "      <th>2</th>\n",
       "      <td>B096MSW6CT</td>\n",
       "      <td>Sounce Fast Phone Charging Cable &amp; Data Sync U...</td>\n",
       "      <td>199.0</td>\n",
       "      <td>1899.0</td>\n",
       "      <td>1700.0</td>\n",
       "      <td>0.90</td>\n",
       "      <td>3.9</td>\n",
       "      <td>Average</td>\n",
       "      <td>7928.0</td>\n",
       "      <td>Computers &amp; Accessories</td>\n",
       "      <td>Accessories &amp; Peripherals</td>\n",
       "    </tr>\n",
       "    <tr>\n",
       "      <th>3</th>\n",
       "      <td>B08HDJ86NZ</td>\n",
       "      <td>boAt Deuce USB 300 2 in 1 Type-C &amp; Micro USB S...</td>\n",
       "      <td>329.0</td>\n",
       "      <td>699.0</td>\n",
       "      <td>370.0</td>\n",
       "      <td>0.53</td>\n",
       "      <td>4.2</td>\n",
       "      <td>Above Average</td>\n",
       "      <td>94363.0</td>\n",
       "      <td>Computers &amp; Accessories</td>\n",
       "      <td>Accessories &amp; Peripherals</td>\n",
       "    </tr>\n",
       "    <tr>\n",
       "      <th>4</th>\n",
       "      <td>B08CF3B7N1</td>\n",
       "      <td>Portronics Konnect L 1.2M Fast Charging 3A 8 P...</td>\n",
       "      <td>154.0</td>\n",
       "      <td>399.0</td>\n",
       "      <td>245.0</td>\n",
       "      <td>0.61</td>\n",
       "      <td>4.2</td>\n",
       "      <td>Above Average</td>\n",
       "      <td>16905.0</td>\n",
       "      <td>Computers &amp; Accessories</td>\n",
       "      <td>Accessories &amp; Peripherals</td>\n",
       "    </tr>\n",
       "    <tr>\n",
       "      <th>...</th>\n",
       "      <td>...</td>\n",
       "      <td>...</td>\n",
       "      <td>...</td>\n",
       "      <td>...</td>\n",
       "      <td>...</td>\n",
       "      <td>...</td>\n",
       "      <td>...</td>\n",
       "      <td>...</td>\n",
       "      <td>...</td>\n",
       "      <td>...</td>\n",
       "      <td>...</td>\n",
       "    </tr>\n",
       "    <tr>\n",
       "      <th>1460</th>\n",
       "      <td>B08L7J3T31</td>\n",
       "      <td>Noir Aqua - 5pcs PP Spun Filter + 1 Spanner | ...</td>\n",
       "      <td>379.0</td>\n",
       "      <td>919.0</td>\n",
       "      <td>540.0</td>\n",
       "      <td>0.59</td>\n",
       "      <td>4.0</td>\n",
       "      <td>Above Average</td>\n",
       "      <td>1090.0</td>\n",
       "      <td>Home &amp; Kitchen</td>\n",
       "      <td>Kitchen &amp; Home Appliances</td>\n",
       "    </tr>\n",
       "    <tr>\n",
       "      <th>1461</th>\n",
       "      <td>B01M6453MB</td>\n",
       "      <td>Prestige Delight PRWO Electric Rice Cooker (1 ...</td>\n",
       "      <td>2280.0</td>\n",
       "      <td>3045.0</td>\n",
       "      <td>765.0</td>\n",
       "      <td>0.25</td>\n",
       "      <td>4.1</td>\n",
       "      <td>Above Average</td>\n",
       "      <td>4118.0</td>\n",
       "      <td>Home &amp; Kitchen</td>\n",
       "      <td>Kitchen &amp; Home Appliances</td>\n",
       "    </tr>\n",
       "    <tr>\n",
       "      <th>1462</th>\n",
       "      <td>B009P2LIL4</td>\n",
       "      <td>Bajaj Majesty RX10 2000 Watts Heat Convector R...</td>\n",
       "      <td>2219.0</td>\n",
       "      <td>3080.0</td>\n",
       "      <td>861.0</td>\n",
       "      <td>0.28</td>\n",
       "      <td>3.6</td>\n",
       "      <td>Average</td>\n",
       "      <td>468.0</td>\n",
       "      <td>Home &amp; Kitchen</td>\n",
       "      <td>Heating, Cooling &amp; Air Quality</td>\n",
       "    </tr>\n",
       "    <tr>\n",
       "      <th>1463</th>\n",
       "      <td>B00J5DYCCA</td>\n",
       "      <td>Havells Ventil Air DSP 230mm Exhaust Fan (Pist...</td>\n",
       "      <td>1399.0</td>\n",
       "      <td>1890.0</td>\n",
       "      <td>491.0</td>\n",
       "      <td>0.26</td>\n",
       "      <td>4.0</td>\n",
       "      <td>Above Average</td>\n",
       "      <td>8031.0</td>\n",
       "      <td>Home &amp; Kitchen</td>\n",
       "      <td>Heating, Cooling &amp; Air Quality</td>\n",
       "    </tr>\n",
       "    <tr>\n",
       "      <th>1464</th>\n",
       "      <td>B01486F4G6</td>\n",
       "      <td>Borosil Jumbo 1000-Watt Grill Sandwich Maker (...</td>\n",
       "      <td>2863.0</td>\n",
       "      <td>3690.0</td>\n",
       "      <td>827.0</td>\n",
       "      <td>0.22</td>\n",
       "      <td>4.3</td>\n",
       "      <td>Above Average</td>\n",
       "      <td>6987.0</td>\n",
       "      <td>Home &amp; Kitchen</td>\n",
       "      <td>Kitchen &amp; Home Appliances</td>\n",
       "    </tr>\n",
       "  </tbody>\n",
       "</table>\n",
       "<p>1465 rows × 11 columns</p>\n",
       "</div>"
      ],
      "text/plain": [
       "      product_id                                       product_name  \\\n",
       "0     B07JW9H4J1  Wayona Nylon Braided USB to Lightning Fast Cha...   \n",
       "1     B098NS6PVG  Ambrane Unbreakable 60W / 3A Fast Charging 1.5...   \n",
       "2     B096MSW6CT  Sounce Fast Phone Charging Cable & Data Sync U...   \n",
       "3     B08HDJ86NZ  boAt Deuce USB 300 2 in 1 Type-C & Micro USB S...   \n",
       "4     B08CF3B7N1  Portronics Konnect L 1.2M Fast Charging 3A 8 P...   \n",
       "...          ...                                                ...   \n",
       "1460  B08L7J3T31  Noir Aqua - 5pcs PP Spun Filter + 1 Spanner | ...   \n",
       "1461  B01M6453MB  Prestige Delight PRWO Electric Rice Cooker (1 ...   \n",
       "1462  B009P2LIL4  Bajaj Majesty RX10 2000 Watts Heat Convector R...   \n",
       "1463  B00J5DYCCA  Havells Ventil Air DSP 230mm Exhaust Fan (Pist...   \n",
       "1464  B01486F4G6  Borosil Jumbo 1000-Watt Grill Sandwich Maker (...   \n",
       "\n",
       "      discounted_price  actual_price  difference_price  discount_percentage  \\\n",
       "0                399.0        1099.0             700.0                 0.64   \n",
       "1                199.0         349.0             150.0                 0.43   \n",
       "2                199.0        1899.0            1700.0                 0.90   \n",
       "3                329.0         699.0             370.0                 0.53   \n",
       "4                154.0         399.0             245.0                 0.61   \n",
       "...                ...           ...               ...                  ...   \n",
       "1460             379.0         919.0             540.0                 0.59   \n",
       "1461            2280.0        3045.0             765.0                 0.25   \n",
       "1462            2219.0        3080.0             861.0                 0.28   \n",
       "1463            1399.0        1890.0             491.0                 0.26   \n",
       "1464            2863.0        3690.0             827.0                 0.22   \n",
       "\n",
       "      rating   rating_score  rating_count               category_1  \\\n",
       "0        4.2  Above Average       24269.0  Computers & Accessories   \n",
       "1        4.0  Above Average       43994.0  Computers & Accessories   \n",
       "2        3.9        Average        7928.0  Computers & Accessories   \n",
       "3        4.2  Above Average       94363.0  Computers & Accessories   \n",
       "4        4.2  Above Average       16905.0  Computers & Accessories   \n",
       "...      ...            ...           ...                      ...   \n",
       "1460     4.0  Above Average        1090.0           Home & Kitchen   \n",
       "1461     4.1  Above Average        4118.0           Home & Kitchen   \n",
       "1462     3.6        Average         468.0           Home & Kitchen   \n",
       "1463     4.0  Above Average        8031.0           Home & Kitchen   \n",
       "1464     4.3  Above Average        6987.0           Home & Kitchen   \n",
       "\n",
       "                          category_2  \n",
       "0          Accessories & Peripherals  \n",
       "1          Accessories & Peripherals  \n",
       "2          Accessories & Peripherals  \n",
       "3          Accessories & Peripherals  \n",
       "4          Accessories & Peripherals  \n",
       "...                              ...  \n",
       "1460       Kitchen & Home Appliances  \n",
       "1461       Kitchen & Home Appliances  \n",
       "1462  Heating, Cooling & Air Quality  \n",
       "1463  Heating, Cooling & Air Quality  \n",
       "1464       Kitchen & Home Appliances  \n",
       "\n",
       "[1465 rows x 11 columns]"
      ]
     },
     "execution_count": 127,
     "metadata": {},
     "output_type": "execute_result"
    }
   ],
   "source": [
    "# Define the desired column order\n",
    "new_column_order = ['product_id', 'product_name', 'discounted_price', 'actual_price', 'difference_price','discount_percentage',\n",
    "                    'rating', 'rating_score', 'rating_count', 'category_1', 'category_2', ]\n",
    "\n",
    "# Rearrange the columns in the DataFrame\n",
    "amazon_new = amazon_new[new_column_order]\n",
    "amazon_new"
   ]
  },
  {
   "cell_type": "code",
   "execution_count": 128,
   "id": "c4c7139f",
   "metadata": {
    "slideshow": {
     "slide_type": "skip"
    }
   },
   "outputs": [
    {
     "name": "stderr",
     "output_type": "stream",
     "text": [
      "/var/folders/cb/gfybb8s93jb9q6rjx3q0q5s40000gn/T/ipykernel_2864/1889264436.py:1: DeprecationWarning: In a future version, `df.iloc[:, i] = newvals` will attempt to set the values inplace instead of always setting a new array. To retain the old behavior, use either `df[df.columns[i]] = newvals` or, if columns are non-unique, `df.isetitem(i, newvals)`\n",
      "  amazon_new.loc[:, 'rating_score'] = amazon_new.loc[:, 'rating_score'].cat.reorder_categories(['Below Average', 'Average', 'Above Average', 'Excellent'], ordered=True)\n"
     ]
    }
   ],
   "source": [
    "amazon_new.loc[:, 'rating_score'] = amazon_new.loc[:, 'rating_score'].cat.reorder_categories(['Below Average', 'Average', 'Above Average', 'Excellent'], ordered=True)\n"
   ]
  },
  {
   "cell_type": "code",
   "execution_count": 129,
   "id": "cde405f6",
   "metadata": {
    "slideshow": {
     "slide_type": "skip"
    }
   },
   "outputs": [
    {
     "data": {
      "image/png": "[encoded data removed]",
      "text/plain": [
       "<Figure size 640x480 with 1 Axes>"
      ]
     },
     "metadata": {},
     "output_type": "display_data"
    }
   ],
   "source": [
    "\n",
    "\n",
    "# Extract the 'category_2' column\n",
    "category_counts = amazon_new['category_2'].value_counts()\n",
    "\n",
    "# Define a modern color palette\n",
    "colors = ['#FF5C93', '#FFC66C', '#6CD4FF', '#A593E0', '#8AFF9C']\n",
    "\n",
    "# Plot the bar chart with the custom color palette\n",
    "ax = category_counts.plot.bar(color=colors)\n",
    "\n",
    "# Set labels and title\n",
    "plt.xlabel('Sub - Category')\n",
    "plt.ylabel('Count')\n",
    "plt.title('Sub - Category Counts')\n",
    "\n",
    "# Add count labels on top of each bar\n",
    "for i, v in enumerate(category_counts):\n",
    "    ax.text(i, v, str(v), ha='center', va='bottom')\n",
    "\n",
    "# Display the chart\n",
    "plt.show()\n"
   ]
  },
  {
   "cell_type": "code",
   "execution_count": 130,
   "id": "51d45d18",
   "metadata": {
    "slideshow": {
     "slide_type": "slide"
    }
   },
   "outputs": [
    {
     "data": {
      "image/png": "[encoded data removed]",
      "text/plain": [
       "<Figure size 640x480 with 1 Axes>"
      ]
     },
     "metadata": {},
     "output_type": "display_data"
    }
   ],
   "source": [
    "# Extract the 'category_2' column\n",
    "category_counts = amazon_new['category_2'].value_counts()\n",
    "\n",
    "# Define a modern color palette\n",
    "colors = ['#FF5C93', '#FFC66C', '#6CD4FF', '#A593E0', '#8AFF9C']\n",
    "\n",
    "# Filter category counts based on a minimum threshold\n",
    "min_threshold = 18\n",
    "filtered_counts = category_counts[category_counts >= min_threshold]\n",
    "\n",
    "# Plot the bar chart with the custom color palette for filtered counts\n",
    "ax = filtered_counts.plot.bar(color=colors)\n",
    "\n",
    "# Set labels and title\n",
    "plt.xlabel('Sub - Category')\n",
    "plt.ylabel('Count')\n",
    "plt.title('Sub - Category Counts (Counts >= {})'.format(min_threshold))\n",
    "\n",
    "# Add count labels on top of each bar\n",
    "for i, v in enumerate(filtered_counts):\n",
    "    ax.text(i, v, str(v), ha='center', va='bottom')\n",
    "\n",
    "# Display the chart\n",
    "plt.show()"
   ]
  },
  {
   "cell_type": "code",
   "execution_count": 144,
   "id": "08fe1372",
   "metadata": {
    "slideshow": {
     "slide_type": "skip"
    }
   },
   "outputs": [
    {
     "data": {
      "text/plain": [
       "Accessories & Peripherals            381\n",
       "Kitchen & Home Appliances            308\n",
       "Home Theater, TV & Video             162\n",
       "Mobiles & Accessories                161\n",
       "Heating, Cooling & Air Quality       116\n",
       "Wearable Technology                   76\n",
       "Headphones, Earbuds & Accessories     66\n",
       "Networking Devices                    34\n",
       "Office Paper Products                 27\n",
       "External Devices & Data Storage       18\n",
       "Name: category_2, dtype: int64"
      ]
     },
     "execution_count": 144,
     "metadata": {},
     "output_type": "execute_result"
    }
   ],
   "source": [
    "filtered_counts"
   ]
  },
  {
   "cell_type": "markdown",
   "id": "c531d78f",
   "metadata": {
    "slideshow": {
     "slide_type": "slide"
    }
   },
   "source": [
    "# Convert the discounted prices from Rupees to Pounds using the exchange rate"
   ]
  },
  {
   "cell_type": "code",
   "execution_count": 131,
   "id": "4a9bd48b",
   "metadata": {
    "slideshow": {
     "slide_type": "slide"
    }
   },
   "outputs": [
    {
     "data": {
      "image/png": "[encoded data removed]",
      "text/plain": [
       "<Figure size 640x480 with 1 Axes>"
      ]
     },
     "metadata": {},
     "output_type": "display_data"
    }
   ],
   "source": [
    "exchange_rate = 0.0093  # Assuming 1 Indian Rupee = 0.0093 British Pound (GBP)\n",
    "amazon_new['difference_price_pounds'] = amazon_new['difference_price'] * exchange_rate\n",
    "\n",
    "# Truncate the product names to a specified length\n",
    "max_name_length = 30\n",
    "amazon_new['truncated_product_name'] = amazon_new['product_name'].str[:max_name_length] + '...' \\\n",
    "    if len(amazon_new['product_name']) > max_name_length else amazon_new['product_name']\n",
    "\n",
    "# Plot the bar chart with the largest price difference and truncated product names\n",
    "dif_price_large = sns.barplot(data=amazon_new.sort_values('difference_price_pounds', ascending=False).head(5),\n",
    "                              x='difference_price_pounds',\n",
    "                              y='truncated_product_name')\n",
    "\n",
    "dif_price_large.set_title('Top 5 Products with the Largest Price Difference', fontweight='bold')\n",
    "dif_price_large.set_xlabel('Price Difference (£)', fontweight='bold')\n",
    "dif_price_large.set_ylabel('Product Name', fontweight='bold')\n",
    "\n",
    "plt.show()"
   ]
  },
  {
   "cell_type": "markdown",
   "id": "a410f8c4",
   "metadata": {
    "slideshow": {
     "slide_type": "slide"
    }
   },
   "source": [
    "# Observation 2: Product Ratings¶\n"
   ]
  },
  {
   "cell_type": "code",
   "execution_count": 135,
   "id": "3aafae53",
   "metadata": {
    "slideshow": {
     "slide_type": "skip"
    }
   },
   "outputs": [],
   "source": [
    "exchange_rate = 0.0093  # Assuming 1 Indian Rupee = 0.0093 British Pound (GBP)\n",
    "amazon_new['actual_price_pounds'] = amazon_new['actual_price'] * exchange_rate\n"
   ]
  },
  {
   "cell_type": "code",
   "execution_count": 139,
   "id": "9920920c",
   "metadata": {
    "slideshow": {
     "slide_type": "slide"
    }
   },
   "outputs": [
    {
     "data": {
      "image/png": "[encoded data removed]",
      "text/plain": [
       "<Figure size 1000x600 with 1 Axes>"
      ]
     },
     "metadata": {},
     "output_type": "display_data"
    }
   ],
   "source": [
    "#Rating Distribution by Product Main Category\n",
    "\n",
    "fig, ax = plt.subplots(figsize=(10, 6))\n",
    "\n",
    "sns.boxplot(ax=ax, data=amazon_new, x='rating', y='category_1')\n",
    "\n",
    "ax.set_xlabel('Rating', fontweight='bold')\n",
    "ax.set_ylabel('Product Main Category', fontweight='bold')\n",
    "ax.set_title('Rating Distribution by Product Main Category', fontweight='heavy', size='x-large', y=1.03)\n",
    "\n",
    "plt.show()"
   ]
  },
  {
   "cell_type": "markdown",
   "id": "aa14f0df",
   "metadata": {
    "slideshow": {
     "slide_type": "slide"
    }
   },
   "source": [
    "## Findings\n",
    "It's generally safe to buy Office Products on Amazon, but care is required when purchasing Musical Instruments on Amazon"
   ]
  },
  {
   "cell_type": "code",
   "execution_count": 140,
   "id": "b608f8ef",
   "metadata": {
    "slideshow": {
     "slide_type": "slide"
    }
   },
   "outputs": [
    {
     "data": {
      "image/png": "[encoded data removed]",
      "text/plain": [
       "<Figure size 800x600 with 1 Axes>"
      ]
     },
     "metadata": {},
     "output_type": "display_data"
    }
   ],
   "source": [
    "# Analyze the distribution of ratings and rating counts\n",
    "plt.figure(figsize=(8, 6))\n",
    "sns.histplot(data=amazon_new, x='rating', bins=5, kde=True, color='blue')\n",
    "plt.xlabel('Rating')\n",
    "plt.ylabel('Count')\n",
    "plt.title('Distribution of Ratings')\n",
    "plt.show()"
   ]
  },
  {
   "cell_type": "markdown",
   "id": "1ece9055",
   "metadata": {
    "slideshow": {
     "slide_type": "slide"
    }
   },
   "source": [
    "## Findings\n",
    "The majority of products are rated betewen 3.8 and 4.4"
   ]
  },
  {
   "cell_type": "code",
   "execution_count": 161,
   "id": "0b468ed0",
   "metadata": {
    "slideshow": {
     "slide_type": "skip"
    }
   },
   "outputs": [
    {
     "data": {
      "text/plain": [
       "['Accessories & Peripherals',\n",
       " 'Kitchen & Home Appliances',\n",
       " 'Home Theater, TV & Video',\n",
       " 'Mobiles & Accessories',\n",
       " 'Heating, Cooling & Air Quality',\n",
       " 'Wearable Technology',\n",
       " 'Headphones, Earbuds & Accessories',\n",
       " 'Networking Devices',\n",
       " 'Office Paper Products',\n",
       " 'External Devices & Data Storage']"
      ]
     },
     "execution_count": 161,
     "metadata": {},
     "output_type": "execute_result"
    }
   ],
   "source": [
    "list(filtered_counts.keys())"
   ]
  },
  {
   "cell_type": "code",
   "execution_count": 162,
   "id": "14e82524",
   "metadata": {
    "slideshow": {
     "slide_type": "skip"
    }
   },
   "outputs": [
    {
     "data": {
      "text/plain": [
       "0       True\n",
       "1       True\n",
       "2       True\n",
       "3       True\n",
       "4       True\n",
       "        ... \n",
       "1460    True\n",
       "1461    True\n",
       "1462    True\n",
       "1463    True\n",
       "1464    True\n",
       "Name: category_2, Length: 1465, dtype: bool"
      ]
     },
     "execution_count": 162,
     "metadata": {},
     "output_type": "execute_result"
    }
   ],
   "source": [
    "amazon_new['category_2'].isin(list(filtered_counts.keys()))"
   ]
  },
  {
   "cell_type": "code",
   "execution_count": 163,
   "id": "e1ac092e",
   "metadata": {
    "slideshow": {
     "slide_type": "skip"
    }
   },
   "outputs": [
    {
     "data": {
      "text/html": [
       "<div>\n",
       "<style scoped>\n",
       "    .dataframe tbody tr th:only-of-type {\n",
       "        vertical-align: middle;\n",
       "    }\n",
       "\n",
       "    .dataframe tbody tr th {\n",
       "        vertical-align: top;\n",
       "    }\n",
       "\n",
       "    .dataframe thead th {\n",
       "        text-align: right;\n",
       "    }\n",
       "</style>\n",
       "<table border=\"1\" class=\"dataframe\">\n",
       "  <thead>\n",
       "    <tr style=\"text-align: right;\">\n",
       "      <th></th>\n",
       "      <th>product_id</th>\n",
       "      <th>product_name</th>\n",
       "      <th>discounted_price</th>\n",
       "      <th>actual_price</th>\n",
       "      <th>difference_price</th>\n",
       "      <th>discount_percentage</th>\n",
       "      <th>rating</th>\n",
       "      <th>rating_score</th>\n",
       "      <th>rating_count</th>\n",
       "      <th>category_1</th>\n",
       "      <th>category_2</th>\n",
       "      <th>difference_price_pounds</th>\n",
       "      <th>truncated_product_name</th>\n",
       "      <th>actual_price_pounds</th>\n",
       "    </tr>\n",
       "  </thead>\n",
       "  <tbody>\n",
       "    <tr>\n",
       "      <th>0</th>\n",
       "      <td>B07JW9H4J1</td>\n",
       "      <td>Wayona Nylon Braided USB to Lightning Fast Cha...</td>\n",
       "      <td>3.7107</td>\n",
       "      <td>1099.0</td>\n",
       "      <td>700.0</td>\n",
       "      <td>0.64</td>\n",
       "      <td>4.2</td>\n",
       "      <td>Above Average</td>\n",
       "      <td>24269.0</td>\n",
       "      <td>Computers &amp; Accessories</td>\n",
       "      <td>Accessories &amp; Peripherals</td>\n",
       "      <td>6.51</td>\n",
       "      <td>Wayona Nylon Braided USB to Li...</td>\n",
       "      <td>10.22</td>\n",
       "    </tr>\n",
       "    <tr>\n",
       "      <th>1</th>\n",
       "      <td>B098NS6PVG</td>\n",
       "      <td>Ambrane Unbreakable 60W / 3A Fast Charging 1.5...</td>\n",
       "      <td>1.8507</td>\n",
       "      <td>349.0</td>\n",
       "      <td>150.0</td>\n",
       "      <td>0.43</td>\n",
       "      <td>4.0</td>\n",
       "      <td>Above Average</td>\n",
       "      <td>43994.0</td>\n",
       "      <td>Computers &amp; Accessories</td>\n",
       "      <td>Accessories &amp; Peripherals</td>\n",
       "      <td>1.39</td>\n",
       "      <td>Ambrane Unbreakable 60W / 3A F...</td>\n",
       "      <td>3.25</td>\n",
       "    </tr>\n",
       "    <tr>\n",
       "      <th>2</th>\n",
       "      <td>B096MSW6CT</td>\n",
       "      <td>Sounce Fast Phone Charging Cable &amp; Data Sync U...</td>\n",
       "      <td>1.8507</td>\n",
       "      <td>1899.0</td>\n",
       "      <td>1700.0</td>\n",
       "      <td>0.90</td>\n",
       "      <td>3.9</td>\n",
       "      <td>Average</td>\n",
       "      <td>7928.0</td>\n",
       "      <td>Computers &amp; Accessories</td>\n",
       "      <td>Accessories &amp; Peripherals</td>\n",
       "      <td>15.81</td>\n",
       "      <td>Sounce Fast Phone Charging Cab...</td>\n",
       "      <td>17.66</td>\n",
       "    </tr>\n",
       "    <tr>\n",
       "      <th>3</th>\n",
       "      <td>B08HDJ86NZ</td>\n",
       "      <td>boAt Deuce USB 300 2 in 1 Type-C &amp; Micro USB S...</td>\n",
       "      <td>3.0597</td>\n",
       "      <td>699.0</td>\n",
       "      <td>370.0</td>\n",
       "      <td>0.53</td>\n",
       "      <td>4.2</td>\n",
       "      <td>Above Average</td>\n",
       "      <td>94363.0</td>\n",
       "      <td>Computers &amp; Accessories</td>\n",
       "      <td>Accessories &amp; Peripherals</td>\n",
       "      <td>3.44</td>\n",
       "      <td>boAt Deuce USB 300 2 in 1 Type...</td>\n",
       "      <td>6.50</td>\n",
       "    </tr>\n",
       "    <tr>\n",
       "      <th>4</th>\n",
       "      <td>B08CF3B7N1</td>\n",
       "      <td>Portronics Konnect L 1.2M Fast Charging 3A 8 P...</td>\n",
       "      <td>1.4322</td>\n",
       "      <td>399.0</td>\n",
       "      <td>245.0</td>\n",
       "      <td>0.61</td>\n",
       "      <td>4.2</td>\n",
       "      <td>Above Average</td>\n",
       "      <td>16905.0</td>\n",
       "      <td>Computers &amp; Accessories</td>\n",
       "      <td>Accessories &amp; Peripherals</td>\n",
       "      <td>2.28</td>\n",
       "      <td>Portronics Konnect L 1.2M Fast...</td>\n",
       "      <td>3.71</td>\n",
       "    </tr>\n",
       "    <tr>\n",
       "      <th>...</th>\n",
       "      <td>...</td>\n",
       "      <td>...</td>\n",
       "      <td>...</td>\n",
       "      <td>...</td>\n",
       "      <td>...</td>\n",
       "      <td>...</td>\n",
       "      <td>...</td>\n",
       "      <td>...</td>\n",
       "      <td>...</td>\n",
       "      <td>...</td>\n",
       "      <td>...</td>\n",
       "      <td>...</td>\n",
       "      <td>...</td>\n",
       "      <td>...</td>\n",
       "    </tr>\n",
       "    <tr>\n",
       "      <th>1460</th>\n",
       "      <td>B08L7J3T31</td>\n",
       "      <td>Noir Aqua - 5pcs PP Spun Filter + 1 Spanner | ...</td>\n",
       "      <td>3.5247</td>\n",
       "      <td>919.0</td>\n",
       "      <td>540.0</td>\n",
       "      <td>0.59</td>\n",
       "      <td>4.0</td>\n",
       "      <td>Above Average</td>\n",
       "      <td>1090.0</td>\n",
       "      <td>Home &amp; Kitchen</td>\n",
       "      <td>Kitchen &amp; Home Appliances</td>\n",
       "      <td>5.02</td>\n",
       "      <td>Noir Aqua - 5pcs PP Spun Filte...</td>\n",
       "      <td>8.55</td>\n",
       "    </tr>\n",
       "    <tr>\n",
       "      <th>1461</th>\n",
       "      <td>B01M6453MB</td>\n",
       "      <td>Prestige Delight PRWO Electric Rice Cooker (1 ...</td>\n",
       "      <td>21.2040</td>\n",
       "      <td>3045.0</td>\n",
       "      <td>765.0</td>\n",
       "      <td>0.25</td>\n",
       "      <td>4.1</td>\n",
       "      <td>Above Average</td>\n",
       "      <td>4118.0</td>\n",
       "      <td>Home &amp; Kitchen</td>\n",
       "      <td>Kitchen &amp; Home Appliances</td>\n",
       "      <td>7.11</td>\n",
       "      <td>Prestige Delight PRWO Electric...</td>\n",
       "      <td>28.32</td>\n",
       "    </tr>\n",
       "    <tr>\n",
       "      <th>1462</th>\n",
       "      <td>B009P2LIL4</td>\n",
       "      <td>Bajaj Majesty RX10 2000 Watts Heat Convector R...</td>\n",
       "      <td>20.6367</td>\n",
       "      <td>3080.0</td>\n",
       "      <td>861.0</td>\n",
       "      <td>0.28</td>\n",
       "      <td>3.6</td>\n",
       "      <td>Average</td>\n",
       "      <td>468.0</td>\n",
       "      <td>Home &amp; Kitchen</td>\n",
       "      <td>Heating, Cooling &amp; Air Quality</td>\n",
       "      <td>8.01</td>\n",
       "      <td>Bajaj Majesty RX10 2000 Watts ...</td>\n",
       "      <td>28.64</td>\n",
       "    </tr>\n",
       "    <tr>\n",
       "      <th>1463</th>\n",
       "      <td>B00J5DYCCA</td>\n",
       "      <td>Havells Ventil Air DSP 230mm Exhaust Fan (Pist...</td>\n",
       "      <td>13.0107</td>\n",
       "      <td>1890.0</td>\n",
       "      <td>491.0</td>\n",
       "      <td>0.26</td>\n",
       "      <td>4.0</td>\n",
       "      <td>Above Average</td>\n",
       "      <td>8031.0</td>\n",
       "      <td>Home &amp; Kitchen</td>\n",
       "      <td>Heating, Cooling &amp; Air Quality</td>\n",
       "      <td>4.57</td>\n",
       "      <td>Havells Ventil Air DSP 230mm E...</td>\n",
       "      <td>17.58</td>\n",
       "    </tr>\n",
       "    <tr>\n",
       "      <th>1464</th>\n",
       "      <td>B01486F4G6</td>\n",
       "      <td>Borosil Jumbo 1000-Watt Grill Sandwich Maker (...</td>\n",
       "      <td>26.6259</td>\n",
       "      <td>3690.0</td>\n",
       "      <td>827.0</td>\n",
       "      <td>0.22</td>\n",
       "      <td>4.3</td>\n",
       "      <td>Above Average</td>\n",
       "      <td>6987.0</td>\n",
       "      <td>Home &amp; Kitchen</td>\n",
       "      <td>Kitchen &amp; Home Appliances</td>\n",
       "      <td>7.69</td>\n",
       "      <td>Borosil Jumbo 1000-Watt Grill ...</td>\n",
       "      <td>34.32</td>\n",
       "    </tr>\n",
       "  </tbody>\n",
       "</table>\n",
       "<p>1349 rows × 14 columns</p>\n",
       "</div>"
      ],
      "text/plain": [
       "      product_id                                       product_name  \\\n",
       "0     B07JW9H4J1  Wayona Nylon Braided USB to Lightning Fast Cha...   \n",
       "1     B098NS6PVG  Ambrane Unbreakable 60W / 3A Fast Charging 1.5...   \n",
       "2     B096MSW6CT  Sounce Fast Phone Charging Cable & Data Sync U...   \n",
       "3     B08HDJ86NZ  boAt Deuce USB 300 2 in 1 Type-C & Micro USB S...   \n",
       "4     B08CF3B7N1  Portronics Konnect L 1.2M Fast Charging 3A 8 P...   \n",
       "...          ...                                                ...   \n",
       "1460  B08L7J3T31  Noir Aqua - 5pcs PP Spun Filter + 1 Spanner | ...   \n",
       "1461  B01M6453MB  Prestige Delight PRWO Electric Rice Cooker (1 ...   \n",
       "1462  B009P2LIL4  Bajaj Majesty RX10 2000 Watts Heat Convector R...   \n",
       "1463  B00J5DYCCA  Havells Ventil Air DSP 230mm Exhaust Fan (Pist...   \n",
       "1464  B01486F4G6  Borosil Jumbo 1000-Watt Grill Sandwich Maker (...   \n",
       "\n",
       "      discounted_price  actual_price  difference_price  discount_percentage  \\\n",
       "0               3.7107        1099.0             700.0                 0.64   \n",
       "1               1.8507         349.0             150.0                 0.43   \n",
       "2               1.8507        1899.0            1700.0                 0.90   \n",
       "3               3.0597         699.0             370.0                 0.53   \n",
       "4               1.4322         399.0             245.0                 0.61   \n",
       "...                ...           ...               ...                  ...   \n",
       "1460            3.5247         919.0             540.0                 0.59   \n",
       "1461           21.2040        3045.0             765.0                 0.25   \n",
       "1462           20.6367        3080.0             861.0                 0.28   \n",
       "1463           13.0107        1890.0             491.0                 0.26   \n",
       "1464           26.6259        3690.0             827.0                 0.22   \n",
       "\n",
       "      rating   rating_score  rating_count               category_1  \\\n",
       "0        4.2  Above Average       24269.0  Computers & Accessories   \n",
       "1        4.0  Above Average       43994.0  Computers & Accessories   \n",
       "2        3.9        Average        7928.0  Computers & Accessories   \n",
       "3        4.2  Above Average       94363.0  Computers & Accessories   \n",
       "4        4.2  Above Average       16905.0  Computers & Accessories   \n",
       "...      ...            ...           ...                      ...   \n",
       "1460     4.0  Above Average        1090.0           Home & Kitchen   \n",
       "1461     4.1  Above Average        4118.0           Home & Kitchen   \n",
       "1462     3.6        Average         468.0           Home & Kitchen   \n",
       "1463     4.0  Above Average        8031.0           Home & Kitchen   \n",
       "1464     4.3  Above Average        6987.0           Home & Kitchen   \n",
       "\n",
       "                          category_2  difference_price_pounds  \\\n",
       "0          Accessories & Peripherals                     6.51   \n",
       "1          Accessories & Peripherals                     1.39   \n",
       "2          Accessories & Peripherals                    15.81   \n",
       "3          Accessories & Peripherals                     3.44   \n",
       "4          Accessories & Peripherals                     2.28   \n",
       "...                              ...                      ...   \n",
       "1460       Kitchen & Home Appliances                     5.02   \n",
       "1461       Kitchen & Home Appliances                     7.11   \n",
       "1462  Heating, Cooling & Air Quality                     8.01   \n",
       "1463  Heating, Cooling & Air Quality                     4.57   \n",
       "1464       Kitchen & Home Appliances                     7.69   \n",
       "\n",
       "                 truncated_product_name  actual_price_pounds  \n",
       "0     Wayona Nylon Braided USB to Li...                10.22  \n",
       "1     Ambrane Unbreakable 60W / 3A F...                 3.25  \n",
       "2     Sounce Fast Phone Charging Cab...                17.66  \n",
       "3     boAt Deuce USB 300 2 in 1 Type...                 6.50  \n",
       "4     Portronics Konnect L 1.2M Fast...                 3.71  \n",
       "...                                 ...                  ...  \n",
       "1460  Noir Aqua - 5pcs PP Spun Filte...                 8.55  \n",
       "1461  Prestige Delight PRWO Electric...                28.32  \n",
       "1462  Bajaj Majesty RX10 2000 Watts ...                28.64  \n",
       "1463  Havells Ventil Air DSP 230mm E...                17.58  \n",
       "1464  Borosil Jumbo 1000-Watt Grill ...                34.32  \n",
       "\n",
       "[1349 rows x 14 columns]"
      ]
     },
     "execution_count": 163,
     "metadata": {},
     "output_type": "execute_result"
    }
   ],
   "source": [
    "amazon_new[amazon_new['category_2'].isin(list(filtered_counts.keys()))]"
   ]
  },
  {
   "cell_type": "code",
   "execution_count": 164,
   "id": "a8c908c9",
   "metadata": {
    "slideshow": {
     "slide_type": "slide"
    }
   },
   "outputs": [
    {
     "data": {
      "image/png": "[encoded data removed]",
      "text/plain": [
       "<Figure size 1000x600 with 1 Axes>"
      ]
     },
     "metadata": {},
     "output_type": "display_data"
    }
   ],
   "source": [
    "# exchange_rate = 0.0093  \n",
    "# amazon_new['discounted_price'] = amazon_new['discounted_price'] * exchange_rate\n",
    "average_prices = amazon_new[amazon_new['category_2'].isin(list(filtered_counts.keys()))].groupby('category_2')['discount_percentage'].mean().reset_index()\n",
    "plt.figure(figsize=(10, 6))\n",
    "sns.barplot(data=average_prices, x='category_2', y='discount_percentage', color='blue')\n",
    "plt.xlabel('Category')\n",
    "plt.ylabel('Average Percentage Discount')\n",
    "plt.title('Average Percentage Discount by Sub-Category')\n",
    "plt.xticks(rotation=45)\n",
    "plt.show()\n"
   ]
  },
  {
   "cell_type": "markdown",
   "id": "e2db3f7c",
   "metadata": {
    "slideshow": {
     "slide_type": "slide"
    }
   },
   "source": [
    "## Findings\n",
    "If interested in purchasing a Wearable Technology product on Amazon, always wait for a discount. If interested in purchasing Office Paper Products, do not expect a significant discount."
   ]
  },
  {
   "cell_type": "markdown",
   "id": "6316f15a",
   "metadata": {
    "slideshow": {
     "slide_type": "slide"
    }
   },
   "source": [
    "## Improvements\n",
    "- Analyse rating pattern by user type (one review vs multiple reviews, or other splits)\n",
    "- Analyse correlation between rating and discount: are products with a lower rating discounted more heavily?\n",
    "- Use the review_content column to extract main keywords for each review and then perform analysis on those keywords"
   ]
  },
  {
   "cell_type": "code",
   "execution_count": null,
   "id": "5983b8cc",
   "metadata": {},
   "outputs": [],
   "source": []
  }
 ],
 "metadata": {
  "celltoolbar": "Slideshow",
  "kernelspec": {
   "display_name": "Python 3 (ipykernel)",
   "language": "python",
   "name": "python3"
  },
  "language_info": {
   "codemirror_mode": {
    "name": "ipython",
    "version": 3
   },
   "file_extension": ".py",
   "mimetype": "text/x-python",
   "name": "python",
   "nbconvert_exporter": "python",
   "pygments_lexer": "ipython3",
   "version": "3.10.9"
  }
 },
 "nbformat": 4,
 "nbformat_minor": 5
}
